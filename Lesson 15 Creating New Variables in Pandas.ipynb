{
 "cells": [
  {
   "cell_type": "markdown",
   "metadata": {},
   "source": [
    "**SA463A &#x25aa; Data Wrangling and Visualization &#x25aa; Fall 2021 &#x25aa; Uhan**"
   ]
  },
  {
   "cell_type": "markdown",
   "metadata": {},
   "source": [
    "# Lesson 15. Creating New Variables in Pandas"
   ]
  },
  {
   "cell_type": "markdown",
   "metadata": {},
   "source": [
    "## In this lesson..."
   ]
  },
  {
   "cell_type": "markdown",
   "metadata": {},
   "source": [
    "- More ways to create new variables in Pandas"
   ]
  },
  {
   "cell_type": "markdown",
   "metadata": {},
   "source": [
    "<hr style=\"border-top: 2px solid gray; margin-top: 1px; margin-bottom: 1px\"></hr>"
   ]
  },
  {
   "cell_type": "markdown",
   "metadata": {},
   "source": [
    "## A tiny example dataset"
   ]
  },
  {
   "cell_type": "markdown",
   "metadata": {},
   "source": [
    "* Let's start by importing Pandas:"
   ]
  },
  {
   "cell_type": "code",
   "execution_count": 1,
   "metadata": {},
   "outputs": [],
   "source": [
    "import pandas as pd"
   ]
  },
  {
   "cell_type": "markdown",
   "metadata": {},
   "source": [
    "* For this lesson, we'll use the example dataset in `data/sample.csv` to illustrate how the different ways of creating new variables work"
   ]
  },
  {
   "cell_type": "code",
   "execution_count": 2,
   "metadata": {
    "tags": []
   },
   "outputs": [
    {
     "data": {
      "text/html": [
       "<div>\n",
       "<style scoped>\n",
       "    .dataframe tbody tr th:only-of-type {\n",
       "        vertical-align: middle;\n",
       "    }\n",
       "\n",
       "    .dataframe tbody tr th {\n",
       "        vertical-align: top;\n",
       "    }\n",
       "\n",
       "    .dataframe thead th {\n",
       "        text-align: right;\n",
       "    }\n",
       "</style>\n",
       "<table border=\"1\" class=\"dataframe\">\n",
       "  <thead>\n",
       "    <tr style=\"text-align: right;\">\n",
       "      <th></th>\n",
       "      <th>a</th>\n",
       "      <th>b</th>\n",
       "      <th>c</th>\n",
       "      <th>d</th>\n",
       "    </tr>\n",
       "  </thead>\n",
       "  <tbody>\n",
       "    <tr>\n",
       "      <th>0</th>\n",
       "      <td>5</td>\n",
       "      <td>8.389033</td>\n",
       "      <td>10</td>\n",
       "      <td>14.115655</td>\n",
       "    </tr>\n",
       "    <tr>\n",
       "      <th>1</th>\n",
       "      <td>3</td>\n",
       "      <td>9.586854</td>\n",
       "      <td>17</td>\n",
       "      <td>15.843354</td>\n",
       "    </tr>\n",
       "    <tr>\n",
       "      <th>2</th>\n",
       "      <td>2</td>\n",
       "      <td>5.110890</td>\n",
       "      <td>17</td>\n",
       "      <td>15.194550</td>\n",
       "    </tr>\n",
       "    <tr>\n",
       "      <th>3</th>\n",
       "      <td>7</td>\n",
       "      <td>7.578774</td>\n",
       "      <td>14</td>\n",
       "      <td>15.297023</td>\n",
       "    </tr>\n",
       "    <tr>\n",
       "      <th>4</th>\n",
       "      <td>4</td>\n",
       "      <td>1.602499</td>\n",
       "      <td>18</td>\n",
       "      <td>14.786111</td>\n",
       "    </tr>\n",
       "  </tbody>\n",
       "</table>\n",
       "</div>"
      ],
      "text/plain": [
       "   a         b   c          d\n",
       "0  5  8.389033  10  14.115655\n",
       "1  3  9.586854  17  15.843354\n",
       "2  2  5.110890  17  15.194550\n",
       "3  7  7.578774  14  15.297023\n",
       "4  4  1.602499  18  14.786111"
      ]
     },
     "execution_count": 2,
     "metadata": {},
     "output_type": "execute_result"
    }
   ],
   "source": [
    "df = pd.read_csv('data/sample.csv')\n",
    "df"
   ]
  },
  {
   "cell_type": "markdown",
   "metadata": {},
   "source": [
    "<hr style=\"border-top: 2px solid gray; margin-top: 1px; margin-bottom: 1px\"></hr>"
   ]
  },
  {
   "cell_type": "markdown",
   "metadata": {},
   "source": [
    "## The assign method"
   ]
  },
  {
   "cell_type": "markdown",
   "metadata": {},
   "source": [
    "* In a previous lesson, we learned that we can create a new variable/column in a DataFrame by *direct assignment*, like this:"
   ]
  },
  {
   "cell_type": "code",
   "execution_count": 3,
   "metadata": {},
   "outputs": [
    {
     "data": {
      "text/html": [
       "<div>\n",
       "<style scoped>\n",
       "    .dataframe tbody tr th:only-of-type {\n",
       "        vertical-align: middle;\n",
       "    }\n",
       "\n",
       "    .dataframe tbody tr th {\n",
       "        vertical-align: top;\n",
       "    }\n",
       "\n",
       "    .dataframe thead th {\n",
       "        text-align: right;\n",
       "    }\n",
       "</style>\n",
       "<table border=\"1\" class=\"dataframe\">\n",
       "  <thead>\n",
       "    <tr style=\"text-align: right;\">\n",
       "      <th></th>\n",
       "      <th>a</th>\n",
       "      <th>b</th>\n",
       "      <th>c</th>\n",
       "      <th>d</th>\n",
       "      <th>e</th>\n",
       "    </tr>\n",
       "  </thead>\n",
       "  <tbody>\n",
       "    <tr>\n",
       "      <th>0</th>\n",
       "      <td>5</td>\n",
       "      <td>8.389033</td>\n",
       "      <td>10</td>\n",
       "      <td>14.115655</td>\n",
       "      <td>13.389033</td>\n",
       "    </tr>\n",
       "    <tr>\n",
       "      <th>1</th>\n",
       "      <td>3</td>\n",
       "      <td>9.586854</td>\n",
       "      <td>17</td>\n",
       "      <td>15.843354</td>\n",
       "      <td>12.586854</td>\n",
       "    </tr>\n",
       "    <tr>\n",
       "      <th>2</th>\n",
       "      <td>2</td>\n",
       "      <td>5.110890</td>\n",
       "      <td>17</td>\n",
       "      <td>15.194550</td>\n",
       "      <td>7.110890</td>\n",
       "    </tr>\n",
       "    <tr>\n",
       "      <th>3</th>\n",
       "      <td>7</td>\n",
       "      <td>7.578774</td>\n",
       "      <td>14</td>\n",
       "      <td>15.297023</td>\n",
       "      <td>14.578774</td>\n",
       "    </tr>\n",
       "    <tr>\n",
       "      <th>4</th>\n",
       "      <td>4</td>\n",
       "      <td>1.602499</td>\n",
       "      <td>18</td>\n",
       "      <td>14.786111</td>\n",
       "      <td>5.602499</td>\n",
       "    </tr>\n",
       "  </tbody>\n",
       "</table>\n",
       "</div>"
      ],
      "text/plain": [
       "   a         b   c          d          e\n",
       "0  5  8.389033  10  14.115655  13.389033\n",
       "1  3  9.586854  17  15.843354  12.586854\n",
       "2  2  5.110890  17  15.194550   7.110890\n",
       "3  7  7.578774  14  15.297023  14.578774\n",
       "4  4  1.602499  18  14.786111   5.602499"
      ]
     },
     "execution_count": 3,
     "metadata": {},
     "output_type": "execute_result"
    }
   ],
   "source": [
    "df['e'] = df['a'] + df['b']\n",
    "df.head()"
   ]
  },
  {
   "cell_type": "markdown",
   "metadata": {},
   "source": [
    "* Note that the direct assignment approach makes the changes *in place*; that is, `df` itself is modified"
   ]
  },
  {
   "cell_type": "markdown",
   "metadata": {},
   "source": [
    "- Here's another way to create a new variable/column in a DataFrame\n",
    "\n",
    "\n",
    "- Let's read in the data again and start from scratch:"
   ]
  },
  {
   "cell_type": "code",
   "execution_count": 4,
   "metadata": {},
   "outputs": [],
   "source": [
    "df = pd.read_csv('data/sample.csv')"
   ]
  },
  {
   "cell_type": "markdown",
   "metadata": {},
   "source": [
    "- First, we create a function that takes a DataFrame as input, and outputs the sum of columns `a` and `b` of the DataFrame, like this:"
   ]
  },
  {
   "cell_type": "code",
   "execution_count": null,
   "metadata": {},
   "outputs": [],
   "source": []
  },
  {
   "cell_type": "code",
   "execution_count": 5,
   "metadata": {
    "tags": [
     "solution"
    ]
   },
   "outputs": [],
   "source": [
    "# Solution\n",
    "def add_a_and_b(x):\n",
    "    '''\n",
    "    Adds columns 'a' and 'b' in the input DataFrame x\n",
    "    '''\n",
    "    return x['a'] + x['b']"
   ]
  },
  {
   "cell_type": "markdown",
   "metadata": {},
   "source": [
    "- Second, we use the `.assign()` DataFrame method to create the new variable\n",
    "    - Each keyword argument `key=function` creates a new variable called `key` equal to the output of `function(df)`\n",
    "\n",
    "\n",
    "- So, to create a new variable `e` that is equal to the sum of columns `a` and `b`, we can do this:"
   ]
  },
  {
   "cell_type": "code",
   "execution_count": null,
   "metadata": {},
   "outputs": [],
   "source": []
  },
  {
   "cell_type": "code",
   "execution_count": 6,
   "metadata": {
    "tags": [
     "solution"
    ]
   },
   "outputs": [
    {
     "data": {
      "text/html": [
       "<div>\n",
       "<style scoped>\n",
       "    .dataframe tbody tr th:only-of-type {\n",
       "        vertical-align: middle;\n",
       "    }\n",
       "\n",
       "    .dataframe tbody tr th {\n",
       "        vertical-align: top;\n",
       "    }\n",
       "\n",
       "    .dataframe thead th {\n",
       "        text-align: right;\n",
       "    }\n",
       "</style>\n",
       "<table border=\"1\" class=\"dataframe\">\n",
       "  <thead>\n",
       "    <tr style=\"text-align: right;\">\n",
       "      <th></th>\n",
       "      <th>a</th>\n",
       "      <th>b</th>\n",
       "      <th>c</th>\n",
       "      <th>d</th>\n",
       "      <th>e</th>\n",
       "    </tr>\n",
       "  </thead>\n",
       "  <tbody>\n",
       "    <tr>\n",
       "      <th>0</th>\n",
       "      <td>5</td>\n",
       "      <td>8.389033</td>\n",
       "      <td>10</td>\n",
       "      <td>14.115655</td>\n",
       "      <td>13.389033</td>\n",
       "    </tr>\n",
       "    <tr>\n",
       "      <th>1</th>\n",
       "      <td>3</td>\n",
       "      <td>9.586854</td>\n",
       "      <td>17</td>\n",
       "      <td>15.843354</td>\n",
       "      <td>12.586854</td>\n",
       "    </tr>\n",
       "    <tr>\n",
       "      <th>2</th>\n",
       "      <td>2</td>\n",
       "      <td>5.110890</td>\n",
       "      <td>17</td>\n",
       "      <td>15.194550</td>\n",
       "      <td>7.110890</td>\n",
       "    </tr>\n",
       "    <tr>\n",
       "      <th>3</th>\n",
       "      <td>7</td>\n",
       "      <td>7.578774</td>\n",
       "      <td>14</td>\n",
       "      <td>15.297023</td>\n",
       "      <td>14.578774</td>\n",
       "    </tr>\n",
       "    <tr>\n",
       "      <th>4</th>\n",
       "      <td>4</td>\n",
       "      <td>1.602499</td>\n",
       "      <td>18</td>\n",
       "      <td>14.786111</td>\n",
       "      <td>5.602499</td>\n",
       "    </tr>\n",
       "  </tbody>\n",
       "</table>\n",
       "</div>"
      ],
      "text/plain": [
       "   a         b   c          d          e\n",
       "0  5  8.389033  10  14.115655  13.389033\n",
       "1  3  9.586854  17  15.843354  12.586854\n",
       "2  2  5.110890  17  15.194550   7.110890\n",
       "3  7  7.578774  14  15.297023  14.578774\n",
       "4  4  1.602499  18  14.786111   5.602499"
      ]
     },
     "execution_count": 6,
     "metadata": {},
     "output_type": "execute_result"
    }
   ],
   "source": [
    "# Solution\n",
    "df.assign(\n",
    "    e=add_a_and_b\n",
    ")"
   ]
  },
  {
   "cell_type": "markdown",
   "metadata": {},
   "source": [
    "* Note that `.assign()` *returns a new DataFrame*\n",
    "    - It does not make the changes in place, like the direct assignment approach above\n",
    "\n",
    "\n",
    "* If we inspect the contents of `df` now, we see that it doesn't contain a column named `e`:"
   ]
  },
  {
   "cell_type": "code",
   "execution_count": 7,
   "metadata": {},
   "outputs": [
    {
     "data": {
      "text/html": [
       "<div>\n",
       "<style scoped>\n",
       "    .dataframe tbody tr th:only-of-type {\n",
       "        vertical-align: middle;\n",
       "    }\n",
       "\n",
       "    .dataframe tbody tr th {\n",
       "        vertical-align: top;\n",
       "    }\n",
       "\n",
       "    .dataframe thead th {\n",
       "        text-align: right;\n",
       "    }\n",
       "</style>\n",
       "<table border=\"1\" class=\"dataframe\">\n",
       "  <thead>\n",
       "    <tr style=\"text-align: right;\">\n",
       "      <th></th>\n",
       "      <th>a</th>\n",
       "      <th>b</th>\n",
       "      <th>c</th>\n",
       "      <th>d</th>\n",
       "    </tr>\n",
       "  </thead>\n",
       "  <tbody>\n",
       "    <tr>\n",
       "      <th>0</th>\n",
       "      <td>5</td>\n",
       "      <td>8.389033</td>\n",
       "      <td>10</td>\n",
       "      <td>14.115655</td>\n",
       "    </tr>\n",
       "    <tr>\n",
       "      <th>1</th>\n",
       "      <td>3</td>\n",
       "      <td>9.586854</td>\n",
       "      <td>17</td>\n",
       "      <td>15.843354</td>\n",
       "    </tr>\n",
       "    <tr>\n",
       "      <th>2</th>\n",
       "      <td>2</td>\n",
       "      <td>5.110890</td>\n",
       "      <td>17</td>\n",
       "      <td>15.194550</td>\n",
       "    </tr>\n",
       "    <tr>\n",
       "      <th>3</th>\n",
       "      <td>7</td>\n",
       "      <td>7.578774</td>\n",
       "      <td>14</td>\n",
       "      <td>15.297023</td>\n",
       "    </tr>\n",
       "    <tr>\n",
       "      <th>4</th>\n",
       "      <td>4</td>\n",
       "      <td>1.602499</td>\n",
       "      <td>18</td>\n",
       "      <td>14.786111</td>\n",
       "    </tr>\n",
       "  </tbody>\n",
       "</table>\n",
       "</div>"
      ],
      "text/plain": [
       "   a         b   c          d\n",
       "0  5  8.389033  10  14.115655\n",
       "1  3  9.586854  17  15.843354\n",
       "2  2  5.110890  17  15.194550\n",
       "3  7  7.578774  14  15.297023\n",
       "4  4  1.602499  18  14.786111"
      ]
     },
     "execution_count": 7,
     "metadata": {},
     "output_type": "execute_result"
    }
   ],
   "source": [
    "df"
   ]
  },
  {
   "cell_type": "markdown",
   "metadata": {},
   "source": [
    "* Now... creating a separate function to perform the operation we want is a bit cumbersome\n",
    "\n",
    "\n",
    "* Instead, we can use a **lambda function**, like this:"
   ]
  },
  {
   "cell_type": "code",
   "execution_count": null,
   "metadata": {},
   "outputs": [],
   "source": []
  },
  {
   "cell_type": "code",
   "execution_count": 8,
   "metadata": {
    "tags": [
     "solution"
    ]
   },
   "outputs": [
    {
     "data": {
      "text/html": [
       "<div>\n",
       "<style scoped>\n",
       "    .dataframe tbody tr th:only-of-type {\n",
       "        vertical-align: middle;\n",
       "    }\n",
       "\n",
       "    .dataframe tbody tr th {\n",
       "        vertical-align: top;\n",
       "    }\n",
       "\n",
       "    .dataframe thead th {\n",
       "        text-align: right;\n",
       "    }\n",
       "</style>\n",
       "<table border=\"1\" class=\"dataframe\">\n",
       "  <thead>\n",
       "    <tr style=\"text-align: right;\">\n",
       "      <th></th>\n",
       "      <th>a</th>\n",
       "      <th>b</th>\n",
       "      <th>c</th>\n",
       "      <th>d</th>\n",
       "      <th>e</th>\n",
       "    </tr>\n",
       "  </thead>\n",
       "  <tbody>\n",
       "    <tr>\n",
       "      <th>0</th>\n",
       "      <td>5</td>\n",
       "      <td>8.389033</td>\n",
       "      <td>10</td>\n",
       "      <td>14.115655</td>\n",
       "      <td>13.389033</td>\n",
       "    </tr>\n",
       "    <tr>\n",
       "      <th>1</th>\n",
       "      <td>3</td>\n",
       "      <td>9.586854</td>\n",
       "      <td>17</td>\n",
       "      <td>15.843354</td>\n",
       "      <td>12.586854</td>\n",
       "    </tr>\n",
       "    <tr>\n",
       "      <th>2</th>\n",
       "      <td>2</td>\n",
       "      <td>5.110890</td>\n",
       "      <td>17</td>\n",
       "      <td>15.194550</td>\n",
       "      <td>7.110890</td>\n",
       "    </tr>\n",
       "    <tr>\n",
       "      <th>3</th>\n",
       "      <td>7</td>\n",
       "      <td>7.578774</td>\n",
       "      <td>14</td>\n",
       "      <td>15.297023</td>\n",
       "      <td>14.578774</td>\n",
       "    </tr>\n",
       "    <tr>\n",
       "      <th>4</th>\n",
       "      <td>4</td>\n",
       "      <td>1.602499</td>\n",
       "      <td>18</td>\n",
       "      <td>14.786111</td>\n",
       "      <td>5.602499</td>\n",
       "    </tr>\n",
       "  </tbody>\n",
       "</table>\n",
       "</div>"
      ],
      "text/plain": [
       "   a         b   c          d          e\n",
       "0  5  8.389033  10  14.115655  13.389033\n",
       "1  3  9.586854  17  15.843354  12.586854\n",
       "2  2  5.110890  17  15.194550   7.110890\n",
       "3  7  7.578774  14  15.297023  14.578774\n",
       "4  4  1.602499  18  14.786111   5.602499"
      ]
     },
     "execution_count": 8,
     "metadata": {},
     "output_type": "execute_result"
    }
   ],
   "source": [
    "# Solution\n",
    "df.assign(\n",
    "    e=lambda x: x['a'] + x['b']\n",
    ")"
   ]
  },
  {
   "cell_type": "markdown",
   "metadata": {},
   "source": [
    "- The lambda function\n",
    "\n",
    "    ```python\n",
    "    lambda x: x['a'] + x['b']\n",
    "    ```\n",
    "\n",
    "    <br>takes `x` as input, and outputs `x['a'] + x['b']`, just like we defined in the function `add_a_and_b()`\n",
    "\n",
    "\n",
    "- We can even create multiple variables in a single call of `.assign()`, like this:"
   ]
  },
  {
   "cell_type": "code",
   "execution_count": null,
   "metadata": {},
   "outputs": [],
   "source": []
  },
  {
   "cell_type": "code",
   "execution_count": 9,
   "metadata": {
    "tags": [
     "solution"
    ]
   },
   "outputs": [
    {
     "data": {
      "text/html": [
       "<div>\n",
       "<style scoped>\n",
       "    .dataframe tbody tr th:only-of-type {\n",
       "        vertical-align: middle;\n",
       "    }\n",
       "\n",
       "    .dataframe tbody tr th {\n",
       "        vertical-align: top;\n",
       "    }\n",
       "\n",
       "    .dataframe thead th {\n",
       "        text-align: right;\n",
       "    }\n",
       "</style>\n",
       "<table border=\"1\" class=\"dataframe\">\n",
       "  <thead>\n",
       "    <tr style=\"text-align: right;\">\n",
       "      <th></th>\n",
       "      <th>a</th>\n",
       "      <th>b</th>\n",
       "      <th>c</th>\n",
       "      <th>d</th>\n",
       "      <th>e</th>\n",
       "      <th>f</th>\n",
       "    </tr>\n",
       "  </thead>\n",
       "  <tbody>\n",
       "    <tr>\n",
       "      <th>0</th>\n",
       "      <td>5</td>\n",
       "      <td>8.389033</td>\n",
       "      <td>10</td>\n",
       "      <td>14.115655</td>\n",
       "      <td>13.389033</td>\n",
       "      <td>133.890326</td>\n",
       "    </tr>\n",
       "    <tr>\n",
       "      <th>1</th>\n",
       "      <td>3</td>\n",
       "      <td>9.586854</td>\n",
       "      <td>17</td>\n",
       "      <td>15.843354</td>\n",
       "      <td>12.586854</td>\n",
       "      <td>213.976518</td>\n",
       "    </tr>\n",
       "    <tr>\n",
       "      <th>2</th>\n",
       "      <td>2</td>\n",
       "      <td>5.110890</td>\n",
       "      <td>17</td>\n",
       "      <td>15.194550</td>\n",
       "      <td>7.110890</td>\n",
       "      <td>120.885130</td>\n",
       "    </tr>\n",
       "    <tr>\n",
       "      <th>3</th>\n",
       "      <td>7</td>\n",
       "      <td>7.578774</td>\n",
       "      <td>14</td>\n",
       "      <td>15.297023</td>\n",
       "      <td>14.578774</td>\n",
       "      <td>204.102841</td>\n",
       "    </tr>\n",
       "    <tr>\n",
       "      <th>4</th>\n",
       "      <td>4</td>\n",
       "      <td>1.602499</td>\n",
       "      <td>18</td>\n",
       "      <td>14.786111</td>\n",
       "      <td>5.602499</td>\n",
       "      <td>100.844988</td>\n",
       "    </tr>\n",
       "  </tbody>\n",
       "</table>\n",
       "</div>"
      ],
      "text/plain": [
       "   a         b   c          d          e           f\n",
       "0  5  8.389033  10  14.115655  13.389033  133.890326\n",
       "1  3  9.586854  17  15.843354  12.586854  213.976518\n",
       "2  2  5.110890  17  15.194550   7.110890  120.885130\n",
       "3  7  7.578774  14  15.297023  14.578774  204.102841\n",
       "4  4  1.602499  18  14.786111   5.602499  100.844988"
      ]
     },
     "execution_count": 9,
     "metadata": {},
     "output_type": "execute_result"
    }
   ],
   "source": [
    "# Solution\n",
    "df.assign(\n",
    "    e=lambda x: x['a'] + x['b'],\n",
    "    f=lambda x: x['c'] * x['e']\n",
    ")"
   ]
  },
  {
   "cell_type": "markdown",
   "metadata": {},
   "source": [
    "- In the example above, note that we can even refer to *newly created* columns within the same call of `.assign()`"
   ]
  },
  {
   "cell_type": "markdown",
   "metadata": {},
   "source": [
    "- **Template for using the `.assign()` method**\n",
    "\n",
    "    ```python\n",
    "    df.assign(\n",
    "        new_variable_1=lambda x: ...,\n",
    "        new_variable_2=lambda x: ...\n",
    "    )\n",
    "    ```\n",
    "\n",
    "    <br>where `x` refers to the DataFrame `df`"
   ]
  },
  {
   "cell_type": "markdown",
   "metadata": {},
   "source": [
    "### Why use the assign method?"
   ]
  },
  {
   "cell_type": "markdown",
   "metadata": {},
   "source": [
    "- The direct assignment approach makes changes to the DataFrame in place, while `.assign()` returns a new DataFrame\n",
    "\n",
    "\n",
    "- As a result, the `.assign()` method supports method chaining, like this:"
   ]
  },
  {
   "cell_type": "code",
   "execution_count": 10,
   "metadata": {},
   "outputs": [
    {
     "data": {
      "text/html": [
       "<div>\n",
       "<style scoped>\n",
       "    .dataframe tbody tr th:only-of-type {\n",
       "        vertical-align: middle;\n",
       "    }\n",
       "\n",
       "    .dataframe tbody tr th {\n",
       "        vertical-align: top;\n",
       "    }\n",
       "\n",
       "    .dataframe thead th {\n",
       "        text-align: right;\n",
       "    }\n",
       "</style>\n",
       "<table border=\"1\" class=\"dataframe\">\n",
       "  <thead>\n",
       "    <tr style=\"text-align: right;\">\n",
       "      <th></th>\n",
       "      <th>a</th>\n",
       "      <th>b</th>\n",
       "      <th>c</th>\n",
       "      <th>d</th>\n",
       "      <th>e</th>\n",
       "    </tr>\n",
       "  </thead>\n",
       "  <tbody>\n",
       "    <tr>\n",
       "      <th>1</th>\n",
       "      <td>3</td>\n",
       "      <td>9.586854</td>\n",
       "      <td>17</td>\n",
       "      <td>15.843354</td>\n",
       "      <td>8.5</td>\n",
       "    </tr>\n",
       "    <tr>\n",
       "      <th>2</th>\n",
       "      <td>2</td>\n",
       "      <td>5.110890</td>\n",
       "      <td>17</td>\n",
       "      <td>15.194550</td>\n",
       "      <td>8.5</td>\n",
       "    </tr>\n",
       "    <tr>\n",
       "      <th>3</th>\n",
       "      <td>7</td>\n",
       "      <td>7.578774</td>\n",
       "      <td>14</td>\n",
       "      <td>15.297023</td>\n",
       "      <td>7.0</td>\n",
       "    </tr>\n",
       "    <tr>\n",
       "      <th>4</th>\n",
       "      <td>4</td>\n",
       "      <td>1.602499</td>\n",
       "      <td>18</td>\n",
       "      <td>14.786111</td>\n",
       "      <td>9.0</td>\n",
       "    </tr>\n",
       "  </tbody>\n",
       "</table>\n",
       "</div>"
      ],
      "text/plain": [
       "   a         b   c          d    e\n",
       "1  3  9.586854  17  15.843354  8.5\n",
       "2  2  5.110890  17  15.194550  8.5\n",
       "3  7  7.578774  14  15.297023  7.0\n",
       "4  4  1.602499  18  14.786111  9.0"
      ]
     },
     "execution_count": 10,
     "metadata": {},
     "output_type": "execute_result"
    }
   ],
   "source": [
    "(\n",
    "    df\n",
    "    .assign(e=lambda x: x['c'] / 2)\n",
    "    .query('e > 5')\n",
    ")"
   ]
  },
  {
   "cell_type": "markdown",
   "metadata": {},
   "source": [
    "- *Refactoring* &mdash; in particular, renaming variables &mdash; is easier as well \n",
    "\n",
    "\n",
    "- As a comparison, think about changing the name of the DataFrame from `df` to `another_df` in these 2 cases:\n",
    "\n",
    "    ```python\n",
    "    # Case 1\n",
    "    df['f'] = df['a'] + df['b'] + df['c'] + df['d']\n",
    "    \n",
    "    # Case 2\n",
    "    df.assign(\n",
    "        f=lambda x: x['a'] + x['b'] + x['c'] + x['d']\n",
    "    )\n",
    "    ```"
   ]
  },
  {
   "cell_type": "markdown",
   "metadata": {},
   "source": [
    "<hr style=\"border-top: 2px solid gray; margin-top: 1px; margin-bottom: 1px\"></hr>"
   ]
  },
  {
   "cell_type": "markdown",
   "metadata": {},
   "source": [
    "## Useful Series and DataFrame methods for computations"
   ]
  },
  {
   "cell_type": "markdown",
   "metadata": {},
   "source": [
    "- Pandas has a myriad of built-in methods for various computations\n",
    "\n",
    "\n",
    "- In this lesson, we'll learn about some of the basic ones\n",
    "\n",
    "\n",
    "- To find the documentation for the Series and DataFrame methods covered in this section, [search the documentation](https://pandas.pydata.org/pandas-docs/stable/index.html) for either\n",
    "    - `pandas.Series.method_name` or\n",
    "    - `pandas.DataFrame.method_name`"
   ]
  },
  {
   "cell_type": "markdown",
   "metadata": {},
   "source": [
    "### Element-wise methods"
   ]
  },
  {
   "cell_type": "markdown",
   "metadata": {},
   "source": [
    "* **Element-wise methods** perform the same computation on each element of a Series or DataFrame\n",
    "\n",
    "\n",
    "* One such example is the `.round()` Series/DataFrame method\n",
    "\n",
    "\n",
    "* When applied to a Series, we get the values in the Series, rounded to the given number of decimals\n",
    "\n",
    "\n",
    "* For example:"
   ]
  },
  {
   "cell_type": "code",
   "execution_count": null,
   "metadata": {},
   "outputs": [],
   "source": []
  },
  {
   "cell_type": "code",
   "execution_count": 11,
   "metadata": {
    "tags": [
     "solution"
    ]
   },
   "outputs": [
    {
     "data": {
      "text/plain": [
       "0    14.12\n",
       "1    15.84\n",
       "2    15.19\n",
       "3    15.30\n",
       "4    14.79\n",
       "Name: d, dtype: float64"
      ]
     },
     "execution_count": 11,
     "metadata": {},
     "output_type": "execute_result"
    }
   ],
   "source": [
    "# Solution\n",
    "df['d'].round(2)"
   ]
  },
  {
   "cell_type": "markdown",
   "metadata": {},
   "source": [
    "* We can add a column to our DataFrame with these rounded values, like this:"
   ]
  },
  {
   "cell_type": "code",
   "execution_count": null,
   "metadata": {},
   "outputs": [],
   "source": []
  },
  {
   "cell_type": "code",
   "execution_count": 12,
   "metadata": {
    "tags": [
     "solution"
    ]
   },
   "outputs": [
    {
     "data": {
      "text/html": [
       "<div>\n",
       "<style scoped>\n",
       "    .dataframe tbody tr th:only-of-type {\n",
       "        vertical-align: middle;\n",
       "    }\n",
       "\n",
       "    .dataframe tbody tr th {\n",
       "        vertical-align: top;\n",
       "    }\n",
       "\n",
       "    .dataframe thead th {\n",
       "        text-align: right;\n",
       "    }\n",
       "</style>\n",
       "<table border=\"1\" class=\"dataframe\">\n",
       "  <thead>\n",
       "    <tr style=\"text-align: right;\">\n",
       "      <th></th>\n",
       "      <th>a</th>\n",
       "      <th>b</th>\n",
       "      <th>c</th>\n",
       "      <th>d</th>\n",
       "      <th>d_rounded</th>\n",
       "    </tr>\n",
       "  </thead>\n",
       "  <tbody>\n",
       "    <tr>\n",
       "      <th>0</th>\n",
       "      <td>5</td>\n",
       "      <td>8.389033</td>\n",
       "      <td>10</td>\n",
       "      <td>14.115655</td>\n",
       "      <td>14.12</td>\n",
       "    </tr>\n",
       "    <tr>\n",
       "      <th>1</th>\n",
       "      <td>3</td>\n",
       "      <td>9.586854</td>\n",
       "      <td>17</td>\n",
       "      <td>15.843354</td>\n",
       "      <td>15.84</td>\n",
       "    </tr>\n",
       "    <tr>\n",
       "      <th>2</th>\n",
       "      <td>2</td>\n",
       "      <td>5.110890</td>\n",
       "      <td>17</td>\n",
       "      <td>15.194550</td>\n",
       "      <td>15.19</td>\n",
       "    </tr>\n",
       "    <tr>\n",
       "      <th>3</th>\n",
       "      <td>7</td>\n",
       "      <td>7.578774</td>\n",
       "      <td>14</td>\n",
       "      <td>15.297023</td>\n",
       "      <td>15.30</td>\n",
       "    </tr>\n",
       "    <tr>\n",
       "      <th>4</th>\n",
       "      <td>4</td>\n",
       "      <td>1.602499</td>\n",
       "      <td>18</td>\n",
       "      <td>14.786111</td>\n",
       "      <td>14.79</td>\n",
       "    </tr>\n",
       "  </tbody>\n",
       "</table>\n",
       "</div>"
      ],
      "text/plain": [
       "   a         b   c          d  d_rounded\n",
       "0  5  8.389033  10  14.115655      14.12\n",
       "1  3  9.586854  17  15.843354      15.84\n",
       "2  2  5.110890  17  15.194550      15.19\n",
       "3  7  7.578774  14  15.297023      15.30\n",
       "4  4  1.602499  18  14.786111      14.79"
      ]
     },
     "execution_count": 12,
     "metadata": {},
     "output_type": "execute_result"
    }
   ],
   "source": [
    "# Solution\n",
    "df.assign(\n",
    "    d_rounded=lambda x: x['d'].round(2)\n",
    ")"
   ]
  },
  {
   "cell_type": "markdown",
   "metadata": {},
   "source": [
    "* We can also apply `.round()` to the entire DataFrame:"
   ]
  },
  {
   "cell_type": "code",
   "execution_count": null,
   "metadata": {},
   "outputs": [],
   "source": []
  },
  {
   "cell_type": "code",
   "execution_count": 13,
   "metadata": {
    "tags": [
     "solution"
    ]
   },
   "outputs": [
    {
     "data": {
      "text/html": [
       "<div>\n",
       "<style scoped>\n",
       "    .dataframe tbody tr th:only-of-type {\n",
       "        vertical-align: middle;\n",
       "    }\n",
       "\n",
       "    .dataframe tbody tr th {\n",
       "        vertical-align: top;\n",
       "    }\n",
       "\n",
       "    .dataframe thead th {\n",
       "        text-align: right;\n",
       "    }\n",
       "</style>\n",
       "<table border=\"1\" class=\"dataframe\">\n",
       "  <thead>\n",
       "    <tr style=\"text-align: right;\">\n",
       "      <th></th>\n",
       "      <th>a</th>\n",
       "      <th>b</th>\n",
       "      <th>c</th>\n",
       "      <th>d</th>\n",
       "    </tr>\n",
       "  </thead>\n",
       "  <tbody>\n",
       "    <tr>\n",
       "      <th>0</th>\n",
       "      <td>5</td>\n",
       "      <td>8.4</td>\n",
       "      <td>10</td>\n",
       "      <td>14.1</td>\n",
       "    </tr>\n",
       "    <tr>\n",
       "      <th>1</th>\n",
       "      <td>3</td>\n",
       "      <td>9.6</td>\n",
       "      <td>17</td>\n",
       "      <td>15.8</td>\n",
       "    </tr>\n",
       "    <tr>\n",
       "      <th>2</th>\n",
       "      <td>2</td>\n",
       "      <td>5.1</td>\n",
       "      <td>17</td>\n",
       "      <td>15.2</td>\n",
       "    </tr>\n",
       "    <tr>\n",
       "      <th>3</th>\n",
       "      <td>7</td>\n",
       "      <td>7.6</td>\n",
       "      <td>14</td>\n",
       "      <td>15.3</td>\n",
       "    </tr>\n",
       "    <tr>\n",
       "      <th>4</th>\n",
       "      <td>4</td>\n",
       "      <td>1.6</td>\n",
       "      <td>18</td>\n",
       "      <td>14.8</td>\n",
       "    </tr>\n",
       "  </tbody>\n",
       "</table>\n",
       "</div>"
      ],
      "text/plain": [
       "   a    b   c     d\n",
       "0  5  8.4  10  14.1\n",
       "1  3  9.6  17  15.8\n",
       "2  2  5.1  17  15.2\n",
       "3  7  7.6  14  15.3\n",
       "4  4  1.6  18  14.8"
      ]
     },
     "execution_count": 13,
     "metadata": {},
     "output_type": "execute_result"
    }
   ],
   "source": [
    "# Solution\n",
    "df.round(1)"
   ]
  },
  {
   "cell_type": "markdown",
   "metadata": {},
   "source": [
    "- A few mathematical element-wise methods in Pandas:\n",
    "\n",
    "| Method | Description |\n",
    "| :- | :- |\n",
    "| `.round()` | Round values to given number of decimal places | \n",
    "| `.abs()` | Absolute values |\n",
    "\n",
    "\n",
    "- For more complex element-wise mathematical computations, you can use the appropriate [NumPy](https://numpy.org/) functions\n",
    "\n",
    "\n",
    "- For example, we can compute the cosine of the values in column `b` like this:"
   ]
  },
  {
   "cell_type": "code",
   "execution_count": null,
   "metadata": {},
   "outputs": [],
   "source": []
  },
  {
   "cell_type": "code",
   "execution_count": 14,
   "metadata": {
    "tags": [
     "solution"
    ]
   },
   "outputs": [
    {
     "data": {
      "text/html": [
       "<div>\n",
       "<style scoped>\n",
       "    .dataframe tbody tr th:only-of-type {\n",
       "        vertical-align: middle;\n",
       "    }\n",
       "\n",
       "    .dataframe tbody tr th {\n",
       "        vertical-align: top;\n",
       "    }\n",
       "\n",
       "    .dataframe thead th {\n",
       "        text-align: right;\n",
       "    }\n",
       "</style>\n",
       "<table border=\"1\" class=\"dataframe\">\n",
       "  <thead>\n",
       "    <tr style=\"text-align: right;\">\n",
       "      <th></th>\n",
       "      <th>a</th>\n",
       "      <th>b</th>\n",
       "      <th>c</th>\n",
       "      <th>d</th>\n",
       "      <th>cos_b</th>\n",
       "    </tr>\n",
       "  </thead>\n",
       "  <tbody>\n",
       "    <tr>\n",
       "      <th>0</th>\n",
       "      <td>5</td>\n",
       "      <td>8.389033</td>\n",
       "      <td>10</td>\n",
       "      <td>14.115655</td>\n",
       "      <td>-0.509885</td>\n",
       "    </tr>\n",
       "    <tr>\n",
       "      <th>1</th>\n",
       "      <td>3</td>\n",
       "      <td>9.586854</td>\n",
       "      <td>17</td>\n",
       "      <td>15.843354</td>\n",
       "      <td>-0.986894</td>\n",
       "    </tr>\n",
       "    <tr>\n",
       "      <th>2</th>\n",
       "      <td>2</td>\n",
       "      <td>5.110890</td>\n",
       "      <td>17</td>\n",
       "      <td>15.194550</td>\n",
       "      <td>0.388037</td>\n",
       "    </tr>\n",
       "    <tr>\n",
       "      <th>3</th>\n",
       "      <td>7</td>\n",
       "      <td>7.578774</td>\n",
       "      <td>14</td>\n",
       "      <td>15.297023</td>\n",
       "      <td>0.271746</td>\n",
       "    </tr>\n",
       "    <tr>\n",
       "      <th>4</th>\n",
       "      <td>4</td>\n",
       "      <td>1.602499</td>\n",
       "      <td>18</td>\n",
       "      <td>14.786111</td>\n",
       "      <td>-0.031698</td>\n",
       "    </tr>\n",
       "  </tbody>\n",
       "</table>\n",
       "</div>"
      ],
      "text/plain": [
       "   a         b   c          d     cos_b\n",
       "0  5  8.389033  10  14.115655 -0.509885\n",
       "1  3  9.586854  17  15.843354 -0.986894\n",
       "2  2  5.110890  17  15.194550  0.388037\n",
       "3  7  7.578774  14  15.297023  0.271746\n",
       "4  4  1.602499  18  14.786111 -0.031698"
      ]
     },
     "execution_count": 14,
     "metadata": {},
     "output_type": "execute_result"
    }
   ],
   "source": [
    "# Solution\n",
    "# Import NumPy\n",
    "import numpy as np\n",
    "\n",
    "# Create a new variable with the cosine of the values in column 'b'\n",
    "df.assign(\n",
    "    cos_b=lambda x: np.cos(x['b'])\n",
    ")"
   ]
  },
  {
   "cell_type": "markdown",
   "metadata": {},
   "source": [
    "- [Here's a list of NumPy mathematical functions](https://numpy.org/doc/stable/reference/routines.math.html)"
   ]
  },
  {
   "cell_type": "markdown",
   "metadata": {},
   "source": [
    "❓ __Exercise 1.__ Add a column to `df` called `log10_c`, which contains the base 10 logarithm of the values in column `c`.\n",
    "\n",
    "*Hint.* Take a look at the list of NumPy mathematical functions linked above."
   ]
  },
  {
   "cell_type": "code",
   "execution_count": null,
   "metadata": {},
   "outputs": [],
   "source": []
  },
  {
   "cell_type": "code",
   "execution_count": 15,
   "metadata": {
    "tags": [
     "solution"
    ]
   },
   "outputs": [
    {
     "data": {
      "text/html": [
       "<div>\n",
       "<style scoped>\n",
       "    .dataframe tbody tr th:only-of-type {\n",
       "        vertical-align: middle;\n",
       "    }\n",
       "\n",
       "    .dataframe tbody tr th {\n",
       "        vertical-align: top;\n",
       "    }\n",
       "\n",
       "    .dataframe thead th {\n",
       "        text-align: right;\n",
       "    }\n",
       "</style>\n",
       "<table border=\"1\" class=\"dataframe\">\n",
       "  <thead>\n",
       "    <tr style=\"text-align: right;\">\n",
       "      <th></th>\n",
       "      <th>a</th>\n",
       "      <th>b</th>\n",
       "      <th>c</th>\n",
       "      <th>d</th>\n",
       "      <th>log10_c</th>\n",
       "    </tr>\n",
       "  </thead>\n",
       "  <tbody>\n",
       "    <tr>\n",
       "      <th>0</th>\n",
       "      <td>5</td>\n",
       "      <td>8.389033</td>\n",
       "      <td>10</td>\n",
       "      <td>14.115655</td>\n",
       "      <td>1.000000</td>\n",
       "    </tr>\n",
       "    <tr>\n",
       "      <th>1</th>\n",
       "      <td>3</td>\n",
       "      <td>9.586854</td>\n",
       "      <td>17</td>\n",
       "      <td>15.843354</td>\n",
       "      <td>1.230449</td>\n",
       "    </tr>\n",
       "    <tr>\n",
       "      <th>2</th>\n",
       "      <td>2</td>\n",
       "      <td>5.110890</td>\n",
       "      <td>17</td>\n",
       "      <td>15.194550</td>\n",
       "      <td>1.230449</td>\n",
       "    </tr>\n",
       "    <tr>\n",
       "      <th>3</th>\n",
       "      <td>7</td>\n",
       "      <td>7.578774</td>\n",
       "      <td>14</td>\n",
       "      <td>15.297023</td>\n",
       "      <td>1.146128</td>\n",
       "    </tr>\n",
       "    <tr>\n",
       "      <th>4</th>\n",
       "      <td>4</td>\n",
       "      <td>1.602499</td>\n",
       "      <td>18</td>\n",
       "      <td>14.786111</td>\n",
       "      <td>1.255273</td>\n",
       "    </tr>\n",
       "  </tbody>\n",
       "</table>\n",
       "</div>"
      ],
      "text/plain": [
       "   a         b   c          d   log10_c\n",
       "0  5  8.389033  10  14.115655  1.000000\n",
       "1  3  9.586854  17  15.843354  1.230449\n",
       "2  2  5.110890  17  15.194550  1.230449\n",
       "3  7  7.578774  14  15.297023  1.146128\n",
       "4  4  1.602499  18  14.786111  1.255273"
      ]
     },
     "execution_count": 15,
     "metadata": {},
     "output_type": "execute_result"
    }
   ],
   "source": [
    "# Solution\n",
    "df.assign(\n",
    "    log10_c=lambda x: np.log10(x['c'])\n",
    ")"
   ]
  },
  {
   "cell_type": "markdown",
   "metadata": {},
   "source": [
    "### Reduction methods"
   ]
  },
  {
   "cell_type": "markdown",
   "metadata": {},
   "source": [
    "- **Reduction methods** either\n",
    "    - map a Series to a single value, or\n",
    "    - map the rows or columns of a DataFrame to a Series\n",
    "\n",
    "\n",
    "- One such example is the `.sum()` Series/DataFrame method\n",
    "\n",
    "\n",
    "- When applied to a Series, we get the sum of the values in the Series:"
   ]
  },
  {
   "cell_type": "code",
   "execution_count": null,
   "metadata": {},
   "outputs": [],
   "source": []
  },
  {
   "cell_type": "code",
   "execution_count": 16,
   "metadata": {
    "tags": [
     "solution"
    ]
   },
   "outputs": [
    {
     "data": {
      "text/plain": [
       "32.268050202"
      ]
     },
     "execution_count": 16,
     "metadata": {},
     "output_type": "execute_result"
    }
   ],
   "source": [
    "# Solution\n",
    "df['b'].sum()"
   ]
  },
  {
   "cell_type": "markdown",
   "metadata": {},
   "source": [
    "- By default, when applied to a DataFrame, `.sum()` returns a Series containing sums *across the rows*, or within each column:"
   ]
  },
  {
   "cell_type": "code",
   "execution_count": null,
   "metadata": {},
   "outputs": [],
   "source": []
  },
  {
   "cell_type": "code",
   "execution_count": 17,
   "metadata": {
    "tags": [
     "solution"
    ]
   },
   "outputs": [
    {
     "data": {
      "text/plain": [
       "a    21.000000\n",
       "b    32.268050\n",
       "c    76.000000\n",
       "d    75.236694\n",
       "dtype: float64"
      ]
     },
     "execution_count": 17,
     "metadata": {},
     "output_type": "execute_result"
    }
   ],
   "source": [
    "# Solution\n",
    "df.sum()\n",
    "# df.sum(axis='rows') returns the same thing"
   ]
  },
  {
   "cell_type": "markdown",
   "metadata": {},
   "source": [
    "- To sum *across the columns* instead, we can use the `axis='columns'` keyword:"
   ]
  },
  {
   "cell_type": "code",
   "execution_count": null,
   "metadata": {},
   "outputs": [],
   "source": []
  },
  {
   "cell_type": "code",
   "execution_count": 18,
   "metadata": {
    "tags": [
     "solution"
    ]
   },
   "outputs": [
    {
     "data": {
      "text/plain": [
       "0    37.504688\n",
       "1    45.430208\n",
       "2    39.305440\n",
       "3    43.875797\n",
       "4    38.388611\n",
       "dtype: float64"
      ]
     },
     "execution_count": 18,
     "metadata": {},
     "output_type": "execute_result"
    }
   ],
   "source": [
    "# Solution\n",
    "df.sum(axis='columns')"
   ]
  },
  {
   "cell_type": "markdown",
   "metadata": {},
   "source": [
    "- We can select a subset of columns first, and then sum across the columns, like this:"
   ]
  },
  {
   "cell_type": "code",
   "execution_count": null,
   "metadata": {},
   "outputs": [],
   "source": []
  },
  {
   "cell_type": "code",
   "execution_count": 19,
   "metadata": {
    "tags": [
     "solution"
    ]
   },
   "outputs": [
    {
     "data": {
      "text/plain": [
       "0    29.115655\n",
       "1    35.843354\n",
       "2    34.194550\n",
       "3    36.297023\n",
       "4    36.786111\n",
       "dtype: float64"
      ]
     },
     "execution_count": 19,
     "metadata": {},
     "output_type": "execute_result"
    }
   ],
   "source": [
    "# Solution\n",
    "df[['a', 'c', 'd']].sum(axis='columns')"
   ]
  },
  {
   "cell_type": "markdown",
   "metadata": {},
   "source": [
    "* We can add a column to our DataFrame with this sum, like this:"
   ]
  },
  {
   "cell_type": "code",
   "execution_count": null,
   "metadata": {},
   "outputs": [],
   "source": []
  },
  {
   "cell_type": "code",
   "execution_count": 20,
   "metadata": {
    "tags": [
     "solution"
    ]
   },
   "outputs": [
    {
     "data": {
      "text/html": [
       "<div>\n",
       "<style scoped>\n",
       "    .dataframe tbody tr th:only-of-type {\n",
       "        vertical-align: middle;\n",
       "    }\n",
       "\n",
       "    .dataframe tbody tr th {\n",
       "        vertical-align: top;\n",
       "    }\n",
       "\n",
       "    .dataframe thead th {\n",
       "        text-align: right;\n",
       "    }\n",
       "</style>\n",
       "<table border=\"1\" class=\"dataframe\">\n",
       "  <thead>\n",
       "    <tr style=\"text-align: right;\">\n",
       "      <th></th>\n",
       "      <th>a</th>\n",
       "      <th>b</th>\n",
       "      <th>c</th>\n",
       "      <th>d</th>\n",
       "      <th>total_no_b</th>\n",
       "    </tr>\n",
       "  </thead>\n",
       "  <tbody>\n",
       "    <tr>\n",
       "      <th>0</th>\n",
       "      <td>5</td>\n",
       "      <td>8.389033</td>\n",
       "      <td>10</td>\n",
       "      <td>14.115655</td>\n",
       "      <td>29.115655</td>\n",
       "    </tr>\n",
       "    <tr>\n",
       "      <th>1</th>\n",
       "      <td>3</td>\n",
       "      <td>9.586854</td>\n",
       "      <td>17</td>\n",
       "      <td>15.843354</td>\n",
       "      <td>35.843354</td>\n",
       "    </tr>\n",
       "    <tr>\n",
       "      <th>2</th>\n",
       "      <td>2</td>\n",
       "      <td>5.110890</td>\n",
       "      <td>17</td>\n",
       "      <td>15.194550</td>\n",
       "      <td>34.194550</td>\n",
       "    </tr>\n",
       "    <tr>\n",
       "      <th>3</th>\n",
       "      <td>7</td>\n",
       "      <td>7.578774</td>\n",
       "      <td>14</td>\n",
       "      <td>15.297023</td>\n",
       "      <td>36.297023</td>\n",
       "    </tr>\n",
       "    <tr>\n",
       "      <th>4</th>\n",
       "      <td>4</td>\n",
       "      <td>1.602499</td>\n",
       "      <td>18</td>\n",
       "      <td>14.786111</td>\n",
       "      <td>36.786111</td>\n",
       "    </tr>\n",
       "  </tbody>\n",
       "</table>\n",
       "</div>"
      ],
      "text/plain": [
       "   a         b   c          d  total_no_b\n",
       "0  5  8.389033  10  14.115655   29.115655\n",
       "1  3  9.586854  17  15.843354   35.843354\n",
       "2  2  5.110890  17  15.194550   34.194550\n",
       "3  7  7.578774  14  15.297023   36.297023\n",
       "4  4  1.602499  18  14.786111   36.786111"
      ]
     },
     "execution_count": 20,
     "metadata": {},
     "output_type": "execute_result"
    }
   ],
   "source": [
    "# Solution\n",
    "df.assign(\n",
    "    total_no_b=lambda x: x[['a', 'c', 'd']].sum(axis='columns')\n",
    ")"
   ]
  },
  {
   "cell_type": "markdown",
   "metadata": {},
   "source": [
    "*Food for thought.* What happens when you use the code above, but with `axis='rows'` instead? Why does this happen?"
   ]
  },
  {
   "cell_type": "markdown",
   "metadata": {},
   "source": [
    "- Here are some useful reduction methods:\n",
    "\n",
    "    \n",
    "| Method | Description |\n",
    "| :- | :- |\n",
    "| `.count()` | Number of non-NA values |\n",
    "| `.min()`, `.max()` | Compute minimum and maximum values |\n",
    "| `.quantile()` | Compute sample quantile ranging from 0 to 1 |\n",
    "| `.sum()` | Sum of values |\n",
    "| `.mean()` | Mean of values |\n",
    "| `.median()` | Median of values |\n",
    "| `.mad()` | Mean absolute deviation from mean value |\n",
    "| `.prod()` | Product of all values |\n",
    "| `.var()` | Sample variance of values |\n",
    "| `.std()` | Sample standard deivation of values |\n",
    "\n",
    "\n",
    "- All the methods above use the `axis=...` keyword argument in the same way"
   ]
  },
  {
   "cell_type": "markdown",
   "metadata": {},
   "source": [
    "❓ __Exercise 2.__ Add two new columns to `df` called `min_value` and `max_value`, containing the minimum and maximum value in each row, respectively."
   ]
  },
  {
   "cell_type": "code",
   "execution_count": null,
   "metadata": {},
   "outputs": [],
   "source": []
  },
  {
   "cell_type": "code",
   "execution_count": 21,
   "metadata": {
    "tags": [
     "solution"
    ]
   },
   "outputs": [
    {
     "data": {
      "text/html": [
       "<div>\n",
       "<style scoped>\n",
       "    .dataframe tbody tr th:only-of-type {\n",
       "        vertical-align: middle;\n",
       "    }\n",
       "\n",
       "    .dataframe tbody tr th {\n",
       "        vertical-align: top;\n",
       "    }\n",
       "\n",
       "    .dataframe thead th {\n",
       "        text-align: right;\n",
       "    }\n",
       "</style>\n",
       "<table border=\"1\" class=\"dataframe\">\n",
       "  <thead>\n",
       "    <tr style=\"text-align: right;\">\n",
       "      <th></th>\n",
       "      <th>a</th>\n",
       "      <th>b</th>\n",
       "      <th>c</th>\n",
       "      <th>d</th>\n",
       "      <th>min_value</th>\n",
       "      <th>max_value</th>\n",
       "    </tr>\n",
       "  </thead>\n",
       "  <tbody>\n",
       "    <tr>\n",
       "      <th>0</th>\n",
       "      <td>5</td>\n",
       "      <td>8.389033</td>\n",
       "      <td>10</td>\n",
       "      <td>14.115655</td>\n",
       "      <td>5.000000</td>\n",
       "      <td>14.115655</td>\n",
       "    </tr>\n",
       "    <tr>\n",
       "      <th>1</th>\n",
       "      <td>3</td>\n",
       "      <td>9.586854</td>\n",
       "      <td>17</td>\n",
       "      <td>15.843354</td>\n",
       "      <td>3.000000</td>\n",
       "      <td>17.000000</td>\n",
       "    </tr>\n",
       "    <tr>\n",
       "      <th>2</th>\n",
       "      <td>2</td>\n",
       "      <td>5.110890</td>\n",
       "      <td>17</td>\n",
       "      <td>15.194550</td>\n",
       "      <td>2.000000</td>\n",
       "      <td>17.000000</td>\n",
       "    </tr>\n",
       "    <tr>\n",
       "      <th>3</th>\n",
       "      <td>7</td>\n",
       "      <td>7.578774</td>\n",
       "      <td>14</td>\n",
       "      <td>15.297023</td>\n",
       "      <td>7.000000</td>\n",
       "      <td>15.297023</td>\n",
       "    </tr>\n",
       "    <tr>\n",
       "      <th>4</th>\n",
       "      <td>4</td>\n",
       "      <td>1.602499</td>\n",
       "      <td>18</td>\n",
       "      <td>14.786111</td>\n",
       "      <td>1.602499</td>\n",
       "      <td>18.000000</td>\n",
       "    </tr>\n",
       "  </tbody>\n",
       "</table>\n",
       "</div>"
      ],
      "text/plain": [
       "   a         b   c          d  min_value  max_value\n",
       "0  5  8.389033  10  14.115655   5.000000  14.115655\n",
       "1  3  9.586854  17  15.843354   3.000000  17.000000\n",
       "2  2  5.110890  17  15.194550   2.000000  17.000000\n",
       "3  7  7.578774  14  15.297023   7.000000  15.297023\n",
       "4  4  1.602499  18  14.786111   1.602499  18.000000"
      ]
     },
     "execution_count": 21,
     "metadata": {},
     "output_type": "execute_result"
    }
   ],
   "source": [
    "# Solution\n",
    "df.assign(\n",
    "    min_value=lambda x: x.min(axis='columns'),\n",
    "    max_value=lambda x: x.max(axis='columns')\n",
    ")"
   ]
  },
  {
   "cell_type": "markdown",
   "metadata": {},
   "source": [
    "### \"Same size\" methods"
   ]
  },
  {
   "cell_type": "markdown",
   "metadata": {},
   "source": [
    "* There are other methods that\n",
    "    - take a row or column of values\n",
    "    - perform computations on these values *as a group* (not element-wise)\n",
    "    - return a row or column of values *of the same size*\n",
    "\n",
    "\n",
    "* For example, we can obtain the cumulative sum of values across the *columns* with the `.cumsum()` method, like this:"
   ]
  },
  {
   "cell_type": "code",
   "execution_count": null,
   "metadata": {},
   "outputs": [],
   "source": []
  },
  {
   "cell_type": "code",
   "execution_count": 22,
   "metadata": {
    "tags": [
     "solution"
    ]
   },
   "outputs": [
    {
     "data": {
      "text/html": [
       "<div>\n",
       "<style scoped>\n",
       "    .dataframe tbody tr th:only-of-type {\n",
       "        vertical-align: middle;\n",
       "    }\n",
       "\n",
       "    .dataframe tbody tr th {\n",
       "        vertical-align: top;\n",
       "    }\n",
       "\n",
       "    .dataframe thead th {\n",
       "        text-align: right;\n",
       "    }\n",
       "</style>\n",
       "<table border=\"1\" class=\"dataframe\">\n",
       "  <thead>\n",
       "    <tr style=\"text-align: right;\">\n",
       "      <th></th>\n",
       "      <th>a</th>\n",
       "      <th>b</th>\n",
       "      <th>c</th>\n",
       "      <th>d</th>\n",
       "    </tr>\n",
       "  </thead>\n",
       "  <tbody>\n",
       "    <tr>\n",
       "      <th>0</th>\n",
       "      <td>5.0</td>\n",
       "      <td>13.389033</td>\n",
       "      <td>23.389033</td>\n",
       "      <td>37.504688</td>\n",
       "    </tr>\n",
       "    <tr>\n",
       "      <th>1</th>\n",
       "      <td>3.0</td>\n",
       "      <td>12.586854</td>\n",
       "      <td>29.586854</td>\n",
       "      <td>45.430208</td>\n",
       "    </tr>\n",
       "    <tr>\n",
       "      <th>2</th>\n",
       "      <td>2.0</td>\n",
       "      <td>7.110890</td>\n",
       "      <td>24.110890</td>\n",
       "      <td>39.305440</td>\n",
       "    </tr>\n",
       "    <tr>\n",
       "      <th>3</th>\n",
       "      <td>7.0</td>\n",
       "      <td>14.578774</td>\n",
       "      <td>28.578774</td>\n",
       "      <td>43.875797</td>\n",
       "    </tr>\n",
       "    <tr>\n",
       "      <th>4</th>\n",
       "      <td>4.0</td>\n",
       "      <td>5.602499</td>\n",
       "      <td>23.602499</td>\n",
       "      <td>38.388611</td>\n",
       "    </tr>\n",
       "  </tbody>\n",
       "</table>\n",
       "</div>"
      ],
      "text/plain": [
       "     a          b          c          d\n",
       "0  5.0  13.389033  23.389033  37.504688\n",
       "1  3.0  12.586854  29.586854  45.430208\n",
       "2  2.0   7.110890  24.110890  39.305440\n",
       "3  7.0  14.578774  28.578774  43.875797\n",
       "4  4.0   5.602499  23.602499  38.388611"
      ]
     },
     "execution_count": 22,
     "metadata": {},
     "output_type": "execute_result"
    }
   ],
   "source": [
    "# Solution\n",
    "df.cumsum(axis='columns')"
   ]
  },
  {
   "cell_type": "markdown",
   "metadata": {},
   "source": [
    "* We can also obtain the cumulative sum of values across the *rows* of a column with the `.cumsum()` method, like this:"
   ]
  },
  {
   "cell_type": "code",
   "execution_count": null,
   "metadata": {},
   "outputs": [],
   "source": []
  },
  {
   "cell_type": "code",
   "execution_count": 23,
   "metadata": {
    "tags": [
     "solution"
    ]
   },
   "outputs": [
    {
     "data": {
      "text/plain": [
       "0    10\n",
       "1    27\n",
       "2    44\n",
       "3    58\n",
       "4    76\n",
       "Name: c, dtype: int64"
      ]
     },
     "execution_count": 23,
     "metadata": {},
     "output_type": "execute_result"
    }
   ],
   "source": [
    "# Solution\n",
    "df['c'].cumsum(axis='rows')\n",
    "# df['c'].cumsum() returns the same thing"
   ]
  },
  {
   "cell_type": "markdown",
   "metadata": {},
   "source": [
    "* As we have done above, we can add this cumulative sum of values for column `c` as a new column of our DataFrame, like this:"
   ]
  },
  {
   "cell_type": "code",
   "execution_count": null,
   "metadata": {},
   "outputs": [],
   "source": []
  },
  {
   "cell_type": "code",
   "execution_count": 24,
   "metadata": {
    "tags": [
     "solution"
    ]
   },
   "outputs": [
    {
     "data": {
      "text/html": [
       "<div>\n",
       "<style scoped>\n",
       "    .dataframe tbody tr th:only-of-type {\n",
       "        vertical-align: middle;\n",
       "    }\n",
       "\n",
       "    .dataframe tbody tr th {\n",
       "        vertical-align: top;\n",
       "    }\n",
       "\n",
       "    .dataframe thead th {\n",
       "        text-align: right;\n",
       "    }\n",
       "</style>\n",
       "<table border=\"1\" class=\"dataframe\">\n",
       "  <thead>\n",
       "    <tr style=\"text-align: right;\">\n",
       "      <th></th>\n",
       "      <th>a</th>\n",
       "      <th>b</th>\n",
       "      <th>c</th>\n",
       "      <th>d</th>\n",
       "      <th>c_cumsum</th>\n",
       "    </tr>\n",
       "  </thead>\n",
       "  <tbody>\n",
       "    <tr>\n",
       "      <th>0</th>\n",
       "      <td>5</td>\n",
       "      <td>8.389033</td>\n",
       "      <td>10</td>\n",
       "      <td>14.115655</td>\n",
       "      <td>10</td>\n",
       "    </tr>\n",
       "    <tr>\n",
       "      <th>1</th>\n",
       "      <td>3</td>\n",
       "      <td>9.586854</td>\n",
       "      <td>17</td>\n",
       "      <td>15.843354</td>\n",
       "      <td>27</td>\n",
       "    </tr>\n",
       "    <tr>\n",
       "      <th>2</th>\n",
       "      <td>2</td>\n",
       "      <td>5.110890</td>\n",
       "      <td>17</td>\n",
       "      <td>15.194550</td>\n",
       "      <td>44</td>\n",
       "    </tr>\n",
       "    <tr>\n",
       "      <th>3</th>\n",
       "      <td>7</td>\n",
       "      <td>7.578774</td>\n",
       "      <td>14</td>\n",
       "      <td>15.297023</td>\n",
       "      <td>58</td>\n",
       "    </tr>\n",
       "    <tr>\n",
       "      <th>4</th>\n",
       "      <td>4</td>\n",
       "      <td>1.602499</td>\n",
       "      <td>18</td>\n",
       "      <td>14.786111</td>\n",
       "      <td>76</td>\n",
       "    </tr>\n",
       "  </tbody>\n",
       "</table>\n",
       "</div>"
      ],
      "text/plain": [
       "   a         b   c          d  c_cumsum\n",
       "0  5  8.389033  10  14.115655        10\n",
       "1  3  9.586854  17  15.843354        27\n",
       "2  2  5.110890  17  15.194550        44\n",
       "3  7  7.578774  14  15.297023        58\n",
       "4  4  1.602499  18  14.786111        76"
      ]
     },
     "execution_count": 24,
     "metadata": {},
     "output_type": "execute_result"
    }
   ],
   "source": [
    "# Solution\n",
    "df.assign(\n",
    "    c_cumsum=lambda x: x['c'].cumsum(axis='rows')\n",
    ")"
   ]
  },
  {
   "cell_type": "markdown",
   "metadata": {},
   "source": [
    "* Here are some methods that behave similarly &mdash; that is, they\n",
    "    - take a row or column of values\n",
    "    - perform a computation on these values as a group\n",
    "    - then return a row or column of values of the same size\n",
    "\n",
    "| Method | Description |\n",
    "| :- | :- |\n",
    "| `.cumsum()` | Cumulative sum of values |\n",
    "| `.cummin()`, `.cummax()` | Cumulative minimum and maximum of values |\n",
    "| `.cumprod()` | Cumulative product of values |\n",
    "| `.diff()` | Compute difference between consecutive rows/columns |\n",
    "| `.pct_change()` | Compute percent changes between consecutive rows/columns |\n",
    "| `.rank()` | Compute numerical ranks | \n",
    "\n",
    "\n",
    "* Some of these methods take optional keyword arguments that change what they compute \n",
    "    * Take a look at the documentation for details"
   ]
  },
  {
   "cell_type": "markdown",
   "metadata": {},
   "source": [
    "❓ __Exercise 3.__ Add a column called `a_diff` to `df`, containing the difference between consecutive values in column `a`. \n",
    "\n",
    "You should see that the first element of your newly created column `a_diff` has a missing value. Does this make sense?"
   ]
  },
  {
   "cell_type": "code",
   "execution_count": null,
   "metadata": {},
   "outputs": [],
   "source": []
  },
  {
   "cell_type": "code",
   "execution_count": 25,
   "metadata": {
    "tags": [
     "solution"
    ]
   },
   "outputs": [
    {
     "data": {
      "text/html": [
       "<div>\n",
       "<style scoped>\n",
       "    .dataframe tbody tr th:only-of-type {\n",
       "        vertical-align: middle;\n",
       "    }\n",
       "\n",
       "    .dataframe tbody tr th {\n",
       "        vertical-align: top;\n",
       "    }\n",
       "\n",
       "    .dataframe thead th {\n",
       "        text-align: right;\n",
       "    }\n",
       "</style>\n",
       "<table border=\"1\" class=\"dataframe\">\n",
       "  <thead>\n",
       "    <tr style=\"text-align: right;\">\n",
       "      <th></th>\n",
       "      <th>a</th>\n",
       "      <th>b</th>\n",
       "      <th>c</th>\n",
       "      <th>d</th>\n",
       "      <th>a_diff</th>\n",
       "    </tr>\n",
       "  </thead>\n",
       "  <tbody>\n",
       "    <tr>\n",
       "      <th>0</th>\n",
       "      <td>5</td>\n",
       "      <td>8.389033</td>\n",
       "      <td>10</td>\n",
       "      <td>14.115655</td>\n",
       "      <td>NaN</td>\n",
       "    </tr>\n",
       "    <tr>\n",
       "      <th>1</th>\n",
       "      <td>3</td>\n",
       "      <td>9.586854</td>\n",
       "      <td>17</td>\n",
       "      <td>15.843354</td>\n",
       "      <td>-2.0</td>\n",
       "    </tr>\n",
       "    <tr>\n",
       "      <th>2</th>\n",
       "      <td>2</td>\n",
       "      <td>5.110890</td>\n",
       "      <td>17</td>\n",
       "      <td>15.194550</td>\n",
       "      <td>-1.0</td>\n",
       "    </tr>\n",
       "    <tr>\n",
       "      <th>3</th>\n",
       "      <td>7</td>\n",
       "      <td>7.578774</td>\n",
       "      <td>14</td>\n",
       "      <td>15.297023</td>\n",
       "      <td>5.0</td>\n",
       "    </tr>\n",
       "    <tr>\n",
       "      <th>4</th>\n",
       "      <td>4</td>\n",
       "      <td>1.602499</td>\n",
       "      <td>18</td>\n",
       "      <td>14.786111</td>\n",
       "      <td>-3.0</td>\n",
       "    </tr>\n",
       "  </tbody>\n",
       "</table>\n",
       "</div>"
      ],
      "text/plain": [
       "   a         b   c          d  a_diff\n",
       "0  5  8.389033  10  14.115655     NaN\n",
       "1  3  9.586854  17  15.843354    -2.0\n",
       "2  2  5.110890  17  15.194550    -1.0\n",
       "3  7  7.578774  14  15.297023     5.0\n",
       "4  4  1.602499  18  14.786111    -3.0"
      ]
     },
     "execution_count": 25,
     "metadata": {},
     "output_type": "execute_result"
    }
   ],
   "source": [
    "# Solution\n",
    "df.assign(\n",
    "    a_diff=lambda x: x['a'].diff()\n",
    ")"
   ]
  },
  {
   "cell_type": "markdown",
   "metadata": {},
   "source": [
    "*Write your answer here. Double-click to edit.*"
   ]
  },
  {
   "cell_type": "markdown",
   "metadata": {
    "tags": [
     "solution"
    ]
   },
   "source": [
    "*Solution.* We expect that the first element of `a_diff` is missing, since the first row does not have a previous element to calculate a difference with."
   ]
  },
  {
   "cell_type": "markdown",
   "metadata": {},
   "source": [
    "<hr style=\"border-top: 2px solid gray; margin-top: 1px; margin-bottom: 1px\"></hr>"
   ]
  },
  {
   "cell_type": "markdown",
   "metadata": {},
   "source": [
    "## Other useful ways to create new variables"
   ]
  },
  {
   "cell_type": "markdown",
   "metadata": {},
   "source": [
    "### Adding a constant column"
   ]
  },
  {
   "cell_type": "markdown",
   "metadata": {},
   "source": [
    "* Sometimes it's useful to add a column in which every value is equal to a constant, either a string or numeric value\n",
    "\n",
    "\n",
    "* In this case, you don't need to use a lambda function, like this:"
   ]
  },
  {
   "cell_type": "code",
   "execution_count": null,
   "metadata": {},
   "outputs": [],
   "source": []
  },
  {
   "cell_type": "code",
   "execution_count": 26,
   "metadata": {
    "tags": [
     "solution"
    ]
   },
   "outputs": [
    {
     "data": {
      "text/html": [
       "<div>\n",
       "<style scoped>\n",
       "    .dataframe tbody tr th:only-of-type {\n",
       "        vertical-align: middle;\n",
       "    }\n",
       "\n",
       "    .dataframe tbody tr th {\n",
       "        vertical-align: top;\n",
       "    }\n",
       "\n",
       "    .dataframe thead th {\n",
       "        text-align: right;\n",
       "    }\n",
       "</style>\n",
       "<table border=\"1\" class=\"dataframe\">\n",
       "  <thead>\n",
       "    <tr style=\"text-align: right;\">\n",
       "      <th></th>\n",
       "      <th>a</th>\n",
       "      <th>b</th>\n",
       "      <th>c</th>\n",
       "      <th>d</th>\n",
       "      <th>year</th>\n",
       "      <th>month</th>\n",
       "    </tr>\n",
       "  </thead>\n",
       "  <tbody>\n",
       "    <tr>\n",
       "      <th>0</th>\n",
       "      <td>5</td>\n",
       "      <td>8.389033</td>\n",
       "      <td>10</td>\n",
       "      <td>14.115655</td>\n",
       "      <td>1999</td>\n",
       "      <td>August</td>\n",
       "    </tr>\n",
       "    <tr>\n",
       "      <th>1</th>\n",
       "      <td>3</td>\n",
       "      <td>9.586854</td>\n",
       "      <td>17</td>\n",
       "      <td>15.843354</td>\n",
       "      <td>1999</td>\n",
       "      <td>August</td>\n",
       "    </tr>\n",
       "    <tr>\n",
       "      <th>2</th>\n",
       "      <td>2</td>\n",
       "      <td>5.110890</td>\n",
       "      <td>17</td>\n",
       "      <td>15.194550</td>\n",
       "      <td>1999</td>\n",
       "      <td>August</td>\n",
       "    </tr>\n",
       "    <tr>\n",
       "      <th>3</th>\n",
       "      <td>7</td>\n",
       "      <td>7.578774</td>\n",
       "      <td>14</td>\n",
       "      <td>15.297023</td>\n",
       "      <td>1999</td>\n",
       "      <td>August</td>\n",
       "    </tr>\n",
       "    <tr>\n",
       "      <th>4</th>\n",
       "      <td>4</td>\n",
       "      <td>1.602499</td>\n",
       "      <td>18</td>\n",
       "      <td>14.786111</td>\n",
       "      <td>1999</td>\n",
       "      <td>August</td>\n",
       "    </tr>\n",
       "  </tbody>\n",
       "</table>\n",
       "</div>"
      ],
      "text/plain": [
       "   a         b   c          d  year   month\n",
       "0  5  8.389033  10  14.115655  1999  August\n",
       "1  3  9.586854  17  15.843354  1999  August\n",
       "2  2  5.110890  17  15.194550  1999  August\n",
       "3  7  7.578774  14  15.297023  1999  August\n",
       "4  4  1.602499  18  14.786111  1999  August"
      ]
     },
     "execution_count": 26,
     "metadata": {},
     "output_type": "execute_result"
    }
   ],
   "source": [
    "# Solution\n",
    "df.assign(\n",
    "    year=1999, month='August'\n",
    ")"
   ]
  },
  {
   "cell_type": "markdown",
   "metadata": {},
   "source": [
    "### Mapping values in one column to another"
   ]
  },
  {
   "cell_type": "markdown",
   "metadata": {},
   "source": [
    "* Suppose we know that the values in column `c` in `df` range between 10 and 20, and we want to create a column with those values in words\n",
    "\n",
    "* We can create a dictionary with our desired mapping, like this:"
   ]
  },
  {
   "cell_type": "code",
   "execution_count": 27,
   "metadata": {},
   "outputs": [],
   "source": [
    "number_in_words = {\n",
    "    10: 'Ten',\n",
    "    11: 'Eleven',\n",
    "    12: 'Twelve',\n",
    "    13: 'Thirteen',\n",
    "    14: 'Fourteen',\n",
    "    15: 'Fifteen',\n",
    "    16: 'Sixteen',\n",
    "    17: 'Seventeen',\n",
    "    18: 'Eighteen',\n",
    "    19: 'Nineteen',\n",
    "    20: 'Twenty'\n",
    "}"
   ]
  },
  {
   "cell_type": "markdown",
   "metadata": {},
   "source": [
    "* Then, we can use the `.map()` method to create our new column, like this:"
   ]
  },
  {
   "cell_type": "code",
   "execution_count": null,
   "metadata": {},
   "outputs": [],
   "source": []
  },
  {
   "cell_type": "code",
   "execution_count": 28,
   "metadata": {
    "tags": [
     "solution"
    ]
   },
   "outputs": [
    {
     "data": {
      "text/html": [
       "<div>\n",
       "<style scoped>\n",
       "    .dataframe tbody tr th:only-of-type {\n",
       "        vertical-align: middle;\n",
       "    }\n",
       "\n",
       "    .dataframe tbody tr th {\n",
       "        vertical-align: top;\n",
       "    }\n",
       "\n",
       "    .dataframe thead th {\n",
       "        text-align: right;\n",
       "    }\n",
       "</style>\n",
       "<table border=\"1\" class=\"dataframe\">\n",
       "  <thead>\n",
       "    <tr style=\"text-align: right;\">\n",
       "      <th></th>\n",
       "      <th>a</th>\n",
       "      <th>b</th>\n",
       "      <th>c</th>\n",
       "      <th>d</th>\n",
       "      <th>c_words</th>\n",
       "    </tr>\n",
       "  </thead>\n",
       "  <tbody>\n",
       "    <tr>\n",
       "      <th>0</th>\n",
       "      <td>5</td>\n",
       "      <td>8.389033</td>\n",
       "      <td>10</td>\n",
       "      <td>14.115655</td>\n",
       "      <td>Ten</td>\n",
       "    </tr>\n",
       "    <tr>\n",
       "      <th>1</th>\n",
       "      <td>3</td>\n",
       "      <td>9.586854</td>\n",
       "      <td>17</td>\n",
       "      <td>15.843354</td>\n",
       "      <td>Seventeen</td>\n",
       "    </tr>\n",
       "    <tr>\n",
       "      <th>2</th>\n",
       "      <td>2</td>\n",
       "      <td>5.110890</td>\n",
       "      <td>17</td>\n",
       "      <td>15.194550</td>\n",
       "      <td>Seventeen</td>\n",
       "    </tr>\n",
       "    <tr>\n",
       "      <th>3</th>\n",
       "      <td>7</td>\n",
       "      <td>7.578774</td>\n",
       "      <td>14</td>\n",
       "      <td>15.297023</td>\n",
       "      <td>Fourteen</td>\n",
       "    </tr>\n",
       "    <tr>\n",
       "      <th>4</th>\n",
       "      <td>4</td>\n",
       "      <td>1.602499</td>\n",
       "      <td>18</td>\n",
       "      <td>14.786111</td>\n",
       "      <td>Eighteen</td>\n",
       "    </tr>\n",
       "  </tbody>\n",
       "</table>\n",
       "</div>"
      ],
      "text/plain": [
       "   a         b   c          d    c_words\n",
       "0  5  8.389033  10  14.115655        Ten\n",
       "1  3  9.586854  17  15.843354  Seventeen\n",
       "2  2  5.110890  17  15.194550  Seventeen\n",
       "3  7  7.578774  14  15.297023   Fourteen\n",
       "4  4  1.602499  18  14.786111   Eighteen"
      ]
     },
     "execution_count": 28,
     "metadata": {},
     "output_type": "execute_result"
    }
   ],
   "source": [
    "# Solution\n",
    "df.assign(\n",
    "    c_words=lambda x: x['c'].map(number_in_words)\n",
    ")"
   ]
  },
  {
   "cell_type": "markdown",
   "metadata": {},
   "source": [
    "* We can also pass a _function_ to `.map()` to accomplish something similar!\n",
    "\n",
    "* For example, suppose we want to create a new column based on column `b` in `df`:\n",
    "    * If the value in `b` is below 6, we want the value in our new column to be `low`\n",
    "    * Otherwise, we want the value in our new column to be `high`\n",
    "    \n",
    "* Let's first define a function that creates this mapping:"
   ]
  },
  {
   "cell_type": "code",
   "execution_count": 29,
   "metadata": {},
   "outputs": [],
   "source": [
    "def low_or_high(value):\n",
    "    if value < 6:\n",
    "        return 'low'\n",
    "    else:\n",
    "        return 'high'"
   ]
  },
  {
   "cell_type": "markdown",
   "metadata": {},
   "source": [
    "* Now we can use the `.map()` method to create our new column, like this:"
   ]
  },
  {
   "cell_type": "code",
   "execution_count": null,
   "metadata": {},
   "outputs": [],
   "source": []
  },
  {
   "cell_type": "code",
   "execution_count": 30,
   "metadata": {
    "tags": [
     "solution"
    ]
   },
   "outputs": [
    {
     "data": {
      "text/html": [
       "<div>\n",
       "<style scoped>\n",
       "    .dataframe tbody tr th:only-of-type {\n",
       "        vertical-align: middle;\n",
       "    }\n",
       "\n",
       "    .dataframe tbody tr th {\n",
       "        vertical-align: top;\n",
       "    }\n",
       "\n",
       "    .dataframe thead th {\n",
       "        text-align: right;\n",
       "    }\n",
       "</style>\n",
       "<table border=\"1\" class=\"dataframe\">\n",
       "  <thead>\n",
       "    <tr style=\"text-align: right;\">\n",
       "      <th></th>\n",
       "      <th>a</th>\n",
       "      <th>b</th>\n",
       "      <th>c</th>\n",
       "      <th>d</th>\n",
       "      <th>b_level</th>\n",
       "    </tr>\n",
       "  </thead>\n",
       "  <tbody>\n",
       "    <tr>\n",
       "      <th>0</th>\n",
       "      <td>5</td>\n",
       "      <td>8.389033</td>\n",
       "      <td>10</td>\n",
       "      <td>14.115655</td>\n",
       "      <td>high</td>\n",
       "    </tr>\n",
       "    <tr>\n",
       "      <th>1</th>\n",
       "      <td>3</td>\n",
       "      <td>9.586854</td>\n",
       "      <td>17</td>\n",
       "      <td>15.843354</td>\n",
       "      <td>high</td>\n",
       "    </tr>\n",
       "    <tr>\n",
       "      <th>2</th>\n",
       "      <td>2</td>\n",
       "      <td>5.110890</td>\n",
       "      <td>17</td>\n",
       "      <td>15.194550</td>\n",
       "      <td>low</td>\n",
       "    </tr>\n",
       "    <tr>\n",
       "      <th>3</th>\n",
       "      <td>7</td>\n",
       "      <td>7.578774</td>\n",
       "      <td>14</td>\n",
       "      <td>15.297023</td>\n",
       "      <td>high</td>\n",
       "    </tr>\n",
       "    <tr>\n",
       "      <th>4</th>\n",
       "      <td>4</td>\n",
       "      <td>1.602499</td>\n",
       "      <td>18</td>\n",
       "      <td>14.786111</td>\n",
       "      <td>low</td>\n",
       "    </tr>\n",
       "  </tbody>\n",
       "</table>\n",
       "</div>"
      ],
      "text/plain": [
       "   a         b   c          d b_level\n",
       "0  5  8.389033  10  14.115655    high\n",
       "1  3  9.586854  17  15.843354    high\n",
       "2  2  5.110890  17  15.194550     low\n",
       "3  7  7.578774  14  15.297023    high\n",
       "4  4  1.602499  18  14.786111     low"
      ]
     },
     "execution_count": 30,
     "metadata": {},
     "output_type": "execute_result"
    }
   ],
   "source": [
    "# Solution\n",
    "df.assign(\n",
    "    b_level=lambda x: x['b'].map(low_or_high)\n",
    ")"
   ]
  },
  {
   "cell_type": "markdown",
   "metadata": {},
   "source": [
    "<hr style=\"border-top: 2px solid gray; margin-top: 1px; margin-bottom: 1px\"></hr>"
   ]
  },
  {
   "cell_type": "markdown",
   "metadata": {},
   "source": [
    "## Problems"
   ]
  },
  {
   "cell_type": "markdown",
   "metadata": {},
   "source": [
    "### Problem 0"
   ]
  },
  {
   "cell_type": "markdown",
   "metadata": {},
   "source": [
    "In the same folder as this notebook, there is a CSV file `data/grades.csv`. This is the same dataset used for the problems in Lesson 12. Read the CSV file into a DataFrame. Display the top 5 rows of the DataFrame."
   ]
  },
  {
   "cell_type": "code",
   "execution_count": null,
   "metadata": {},
   "outputs": [],
   "source": []
  },
  {
   "cell_type": "code",
   "execution_count": 31,
   "metadata": {
    "tags": [
     "solution"
    ]
   },
   "outputs": [
    {
     "data": {
      "text/html": [
       "<div>\n",
       "<style scoped>\n",
       "    .dataframe tbody tr th:only-of-type {\n",
       "        vertical-align: middle;\n",
       "    }\n",
       "\n",
       "    .dataframe tbody tr th {\n",
       "        vertical-align: top;\n",
       "    }\n",
       "\n",
       "    .dataframe thead th {\n",
       "        text-align: right;\n",
       "    }\n",
       "</style>\n",
       "<table border=\"1\" class=\"dataframe\">\n",
       "  <thead>\n",
       "    <tr style=\"text-align: right;\">\n",
       "      <th></th>\n",
       "      <th>student_id</th>\n",
       "      <th>lastname</th>\n",
       "      <th>firstname</th>\n",
       "      <th>quiz1</th>\n",
       "      <th>quiz2</th>\n",
       "      <th>quiz3</th>\n",
       "      <th>quiz4</th>\n",
       "      <th>exam1</th>\n",
       "      <th>exam2</th>\n",
       "    </tr>\n",
       "  </thead>\n",
       "  <tbody>\n",
       "    <tr>\n",
       "      <th>0</th>\n",
       "      <td>2603</td>\n",
       "      <td>Conway</td>\n",
       "      <td>Romeo</td>\n",
       "      <td>19</td>\n",
       "      <td>29</td>\n",
       "      <td>20</td>\n",
       "      <td>30</td>\n",
       "      <td>87</td>\n",
       "      <td>50</td>\n",
       "    </tr>\n",
       "    <tr>\n",
       "      <th>1</th>\n",
       "      <td>6435</td>\n",
       "      <td>Livingston</td>\n",
       "      <td>Naseem</td>\n",
       "      <td>17</td>\n",
       "      <td>16</td>\n",
       "      <td>14</td>\n",
       "      <td>25</td>\n",
       "      <td>55</td>\n",
       "      <td>83</td>\n",
       "    </tr>\n",
       "    <tr>\n",
       "      <th>2</th>\n",
       "      <td>6754</td>\n",
       "      <td>Clark</td>\n",
       "      <td>Remy</td>\n",
       "      <td>15</td>\n",
       "      <td>30</td>\n",
       "      <td>11</td>\n",
       "      <td>24</td>\n",
       "      <td>60</td>\n",
       "      <td>95</td>\n",
       "    </tr>\n",
       "    <tr>\n",
       "      <th>3</th>\n",
       "      <td>3032</td>\n",
       "      <td>Carpenter</td>\n",
       "      <td>Zubair</td>\n",
       "      <td>16</td>\n",
       "      <td>13</td>\n",
       "      <td>18</td>\n",
       "      <td>14</td>\n",
       "      <td>91</td>\n",
       "      <td>71</td>\n",
       "    </tr>\n",
       "    <tr>\n",
       "      <th>4</th>\n",
       "      <td>2715</td>\n",
       "      <td>Guerra</td>\n",
       "      <td>Samantha</td>\n",
       "      <td>13</td>\n",
       "      <td>15</td>\n",
       "      <td>17</td>\n",
       "      <td>28</td>\n",
       "      <td>48</td>\n",
       "      <td>98</td>\n",
       "    </tr>\n",
       "  </tbody>\n",
       "</table>\n",
       "</div>"
      ],
      "text/plain": [
       "   student_id    lastname firstname  quiz1  quiz2  quiz3  quiz4  exam1  exam2\n",
       "0        2603      Conway     Romeo     19     29     20     30     87     50\n",
       "1        6435  Livingston    Naseem     17     16     14     25     55     83\n",
       "2        6754       Clark      Remy     15     30     11     24     60     95\n",
       "3        3032   Carpenter    Zubair     16     13     18     14     91     71\n",
       "4        2715      Guerra  Samantha     13     15     17     28     48     98"
      ]
     },
     "execution_count": 31,
     "metadata": {},
     "output_type": "execute_result"
    }
   ],
   "source": [
    "# Solution\n",
    "grades_df = pd.read_csv('data/grades.csv')\n",
    "grades_df.head()"
   ]
  },
  {
   "cell_type": "markdown",
   "metadata": {},
   "source": [
    "### Problem 1"
   ]
  },
  {
   "cell_type": "markdown",
   "metadata": {},
   "source": [
    "Find the minimum, maximum, and median quiz and exam grades. Write your code so that the student IDs and names are *not* included in the output.\n",
    "\n",
    "*Hint.* Use the `.drop()` DataFrame method."
   ]
  },
  {
   "cell_type": "code",
   "execution_count": null,
   "metadata": {},
   "outputs": [],
   "source": []
  },
  {
   "cell_type": "code",
   "execution_count": 32,
   "metadata": {
    "tags": [
     "solution"
    ]
   },
   "outputs": [
    {
     "data": {
      "text/plain": [
       "quiz1    10\n",
       "quiz2    11\n",
       "quiz3    10\n",
       "quiz4    10\n",
       "exam1    41\n",
       "exam2    44\n",
       "dtype: int64"
      ]
     },
     "execution_count": 32,
     "metadata": {},
     "output_type": "execute_result"
    }
   ],
   "source": [
    "# Solution\n",
    "grades_df.drop(\n",
    "    columns=['student_id', 'lastname', 'firstname']\n",
    ").min()"
   ]
  },
  {
   "cell_type": "code",
   "execution_count": 33,
   "metadata": {
    "tags": [
     "solution"
    ]
   },
   "outputs": [
    {
     "data": {
      "text/plain": [
       "quiz1    20\n",
       "quiz2    30\n",
       "quiz3    20\n",
       "quiz4    30\n",
       "exam1    99\n",
       "exam2    99\n",
       "dtype: int64"
      ]
     },
     "execution_count": 33,
     "metadata": {},
     "output_type": "execute_result"
    }
   ],
   "source": [
    "# Solution\n",
    "grades_df.drop(\n",
    "    columns=['student_id', 'lastname', 'firstname']\n",
    ").max()"
   ]
  },
  {
   "cell_type": "code",
   "execution_count": 34,
   "metadata": {
    "tags": [
     "solution"
    ]
   },
   "outputs": [
    {
     "data": {
      "text/plain": [
       "quiz1    14.0\n",
       "quiz2    20.0\n",
       "quiz3    16.0\n",
       "quiz4    19.0\n",
       "exam1    72.0\n",
       "exam2    73.0\n",
       "dtype: float64"
      ]
     },
     "execution_count": 34,
     "metadata": {},
     "output_type": "execute_result"
    }
   ],
   "source": [
    "# Solution\n",
    "grades_df.drop(\n",
    "    columns=['student_id', 'lastname', 'firstname']\n",
    ").median()"
   ]
  },
  {
   "cell_type": "markdown",
   "metadata": {},
   "source": [
    "### Problem 2"
   ]
  },
  {
   "cell_type": "markdown",
   "metadata": {},
   "source": [
    "Create a new DataFrame based on the one you created in Problem 0:\n",
    "\n",
    "- Compute each student's quiz grades as a percentage (fraction between 0 and 1). The maximum score on Quizzes 1 and 3 is 20 points; the maximum score on Quizzes 2 and 4 is 30 points. Add 4 columns, one for each quiz as a percentage.\n",
    "\n",
    "\n",
    "- Compute each student's exam grades as a percentage. The maximum score on each exam is 100 points. Add 2 columns, one for each exam as a percentage.\n",
    "\n",
    "\n",
    "- For each student, compute the average of their quiz percentage grades. Add a column containing the quiz averages.\n",
    "\n",
    "\n",
    "- For each student, compute the average of their exam percentage grades. Add a column containing the exam averages.\n",
    "\n",
    "\n",
    "- Compute each student's course grade as a weighted average of each student's quiz average and exam average: quizzes are worth 35\\%, exams are worth 65\\%. Add a column containing the course grade.\n",
    "\n",
    "\n",
    "Do this using a *single* call to `.assign()`, and use as many of the Series/DataFrame methods described above (e.g. `.sum()`, `.mean()`, etc.) as required. \n",
    "\n",
    "Check your work by displaying the top 5 rows of the DataFrame. You should find that Romeo Conway has a course grade of about 78.8%, Naseem Livingston has a course grade of 70.4%, and Remy Clark has a course grade of 77.5%."
   ]
  },
  {
   "cell_type": "code",
   "execution_count": null,
   "metadata": {},
   "outputs": [],
   "source": []
  },
  {
   "cell_type": "code",
   "execution_count": 35,
   "metadata": {
    "tags": [
     "solution"
    ]
   },
   "outputs": [
    {
     "data": {
      "text/html": [
       "<div>\n",
       "<style scoped>\n",
       "    .dataframe tbody tr th:only-of-type {\n",
       "        vertical-align: middle;\n",
       "    }\n",
       "\n",
       "    .dataframe tbody tr th {\n",
       "        vertical-align: top;\n",
       "    }\n",
       "\n",
       "    .dataframe thead th {\n",
       "        text-align: right;\n",
       "    }\n",
       "</style>\n",
       "<table border=\"1\" class=\"dataframe\">\n",
       "  <thead>\n",
       "    <tr style=\"text-align: right;\">\n",
       "      <th></th>\n",
       "      <th>student_id</th>\n",
       "      <th>lastname</th>\n",
       "      <th>firstname</th>\n",
       "      <th>quiz1</th>\n",
       "      <th>quiz2</th>\n",
       "      <th>quiz3</th>\n",
       "      <th>quiz4</th>\n",
       "      <th>exam1</th>\n",
       "      <th>exam2</th>\n",
       "      <th>quiz1_pct</th>\n",
       "      <th>quiz2_pct</th>\n",
       "      <th>quiz3_pct</th>\n",
       "      <th>quiz4_pct</th>\n",
       "      <th>exam1_pct</th>\n",
       "      <th>exam2_pct</th>\n",
       "      <th>quiz_avg</th>\n",
       "      <th>exam_avg</th>\n",
       "      <th>course_grade</th>\n",
       "    </tr>\n",
       "  </thead>\n",
       "  <tbody>\n",
       "    <tr>\n",
       "      <th>0</th>\n",
       "      <td>2603</td>\n",
       "      <td>Conway</td>\n",
       "      <td>Romeo</td>\n",
       "      <td>19</td>\n",
       "      <td>29</td>\n",
       "      <td>20</td>\n",
       "      <td>30</td>\n",
       "      <td>87</td>\n",
       "      <td>50</td>\n",
       "      <td>0.95</td>\n",
       "      <td>0.966667</td>\n",
       "      <td>1.00</td>\n",
       "      <td>1.000000</td>\n",
       "      <td>0.87</td>\n",
       "      <td>0.50</td>\n",
       "      <td>0.979167</td>\n",
       "      <td>0.685</td>\n",
       "      <td>0.787958</td>\n",
       "    </tr>\n",
       "    <tr>\n",
       "      <th>1</th>\n",
       "      <td>6435</td>\n",
       "      <td>Livingston</td>\n",
       "      <td>Naseem</td>\n",
       "      <td>17</td>\n",
       "      <td>16</td>\n",
       "      <td>14</td>\n",
       "      <td>25</td>\n",
       "      <td>55</td>\n",
       "      <td>83</td>\n",
       "      <td>0.85</td>\n",
       "      <td>0.533333</td>\n",
       "      <td>0.70</td>\n",
       "      <td>0.833333</td>\n",
       "      <td>0.55</td>\n",
       "      <td>0.83</td>\n",
       "      <td>0.729167</td>\n",
       "      <td>0.690</td>\n",
       "      <td>0.703708</td>\n",
       "    </tr>\n",
       "    <tr>\n",
       "      <th>2</th>\n",
       "      <td>6754</td>\n",
       "      <td>Clark</td>\n",
       "      <td>Remy</td>\n",
       "      <td>15</td>\n",
       "      <td>30</td>\n",
       "      <td>11</td>\n",
       "      <td>24</td>\n",
       "      <td>60</td>\n",
       "      <td>95</td>\n",
       "      <td>0.75</td>\n",
       "      <td>1.000000</td>\n",
       "      <td>0.55</td>\n",
       "      <td>0.800000</td>\n",
       "      <td>0.60</td>\n",
       "      <td>0.95</td>\n",
       "      <td>0.775000</td>\n",
       "      <td>0.775</td>\n",
       "      <td>0.775000</td>\n",
       "    </tr>\n",
       "    <tr>\n",
       "      <th>3</th>\n",
       "      <td>3032</td>\n",
       "      <td>Carpenter</td>\n",
       "      <td>Zubair</td>\n",
       "      <td>16</td>\n",
       "      <td>13</td>\n",
       "      <td>18</td>\n",
       "      <td>14</td>\n",
       "      <td>91</td>\n",
       "      <td>71</td>\n",
       "      <td>0.80</td>\n",
       "      <td>0.433333</td>\n",
       "      <td>0.90</td>\n",
       "      <td>0.466667</td>\n",
       "      <td>0.91</td>\n",
       "      <td>0.71</td>\n",
       "      <td>0.650000</td>\n",
       "      <td>0.810</td>\n",
       "      <td>0.754000</td>\n",
       "    </tr>\n",
       "    <tr>\n",
       "      <th>4</th>\n",
       "      <td>2715</td>\n",
       "      <td>Guerra</td>\n",
       "      <td>Samantha</td>\n",
       "      <td>13</td>\n",
       "      <td>15</td>\n",
       "      <td>17</td>\n",
       "      <td>28</td>\n",
       "      <td>48</td>\n",
       "      <td>98</td>\n",
       "      <td>0.65</td>\n",
       "      <td>0.500000</td>\n",
       "      <td>0.85</td>\n",
       "      <td>0.933333</td>\n",
       "      <td>0.48</td>\n",
       "      <td>0.98</td>\n",
       "      <td>0.733333</td>\n",
       "      <td>0.730</td>\n",
       "      <td>0.731167</td>\n",
       "    </tr>\n",
       "  </tbody>\n",
       "</table>\n",
       "</div>"
      ],
      "text/plain": [
       "   student_id    lastname firstname  quiz1  quiz2  quiz3  quiz4  exam1  exam2  \\\n",
       "0        2603      Conway     Romeo     19     29     20     30     87     50   \n",
       "1        6435  Livingston    Naseem     17     16     14     25     55     83   \n",
       "2        6754       Clark      Remy     15     30     11     24     60     95   \n",
       "3        3032   Carpenter    Zubair     16     13     18     14     91     71   \n",
       "4        2715      Guerra  Samantha     13     15     17     28     48     98   \n",
       "\n",
       "   quiz1_pct  quiz2_pct  quiz3_pct  quiz4_pct  exam1_pct  exam2_pct  quiz_avg  \\\n",
       "0       0.95   0.966667       1.00   1.000000       0.87       0.50  0.979167   \n",
       "1       0.85   0.533333       0.70   0.833333       0.55       0.83  0.729167   \n",
       "2       0.75   1.000000       0.55   0.800000       0.60       0.95  0.775000   \n",
       "3       0.80   0.433333       0.90   0.466667       0.91       0.71  0.650000   \n",
       "4       0.65   0.500000       0.85   0.933333       0.48       0.98  0.733333   \n",
       "\n",
       "   exam_avg  course_grade  \n",
       "0     0.685      0.787958  \n",
       "1     0.690      0.703708  \n",
       "2     0.775      0.775000  \n",
       "3     0.810      0.754000  \n",
       "4     0.730      0.731167  "
      ]
     },
     "execution_count": 35,
     "metadata": {},
     "output_type": "execute_result"
    }
   ],
   "source": [
    "# Solution\n",
    "grades_df = grades_df.assign(\n",
    "    quiz1_pct=lambda x: x['quiz1'] / 20,\n",
    "    quiz2_pct=lambda x: x['quiz2'] / 30,\n",
    "    quiz3_pct=lambda x: x['quiz3'] / 20,\n",
    "    quiz4_pct=lambda x: x['quiz4'] / 30,\n",
    "    exam1_pct=lambda x: x['exam1'] / 100,\n",
    "    exam2_pct=lambda x: x['exam2'] / 100,\n",
    "    quiz_avg=lambda x: x[['quiz1_pct', 'quiz2_pct', 'quiz3_pct', 'quiz4_pct']].mean(axis='columns'),\n",
    "    exam_avg=lambda x: x[['exam1_pct', 'exam2_pct']].mean(axis='columns'),\n",
    "    course_grade=lambda x: 0.35 * x['quiz_avg'] + 0.65 * x['exam_avg']\n",
    ")\n",
    "\n",
    "grades_df.head()"
   ]
  },
  {
   "cell_type": "markdown",
   "metadata": {},
   "source": [
    "### Problem 3"
   ]
  },
  {
   "cell_type": "markdown",
   "metadata": {},
   "source": [
    "Create a new DataFrame based on the one you created in Problem 2. In particular, add a new column containing the rank of each student based on their course grade. The student with the highest course grade should have a rank 1. Your new DataFrame should *only* contain the student ID, last name and first name, course grade, and rank. The first 5 rows of your new DataFrame should look like this:\n",
    "\n",
    "<table border=\"1\" class=\"dataframe\">\n",
    "  <thead>\n",
    "    <tr style=\"text-align: right;\">\n",
    "      <th></th>\n",
    "      <th>student_id</th>\n",
    "      <th>lastname</th>\n",
    "      <th>firstname</th>\n",
    "      <th>course_grade</th>\n",
    "      <th>rank</th>\n",
    "    </tr>\n",
    "  </thead>\n",
    "  <tbody>\n",
    "    <tr>\n",
    "      <th>0</th>\n",
    "      <td>2603</td>\n",
    "      <td>Conway</td>\n",
    "      <td>Romeo</td>\n",
    "      <td>0.787958</td>\n",
    "      <td>8.0</td>\n",
    "    </tr>\n",
    "    <tr>\n",
    "      <th>1</th>\n",
    "      <td>6435</td>\n",
    "      <td>Livingston</td>\n",
    "      <td>Naseem</td>\n",
    "      <td>0.703708</td>\n",
    "      <td>30.0</td>\n",
    "    </tr>\n",
    "    <tr>\n",
    "      <th>2</th>\n",
    "      <td>6754</td>\n",
    "      <td>Clark</td>\n",
    "      <td>Remy</td>\n",
    "      <td>0.775000</td>\n",
    "      <td>10.0</td>\n",
    "    </tr>\n",
    "    <tr>\n",
    "      <th>3</th>\n",
    "      <td>3032</td>\n",
    "      <td>Carpenter</td>\n",
    "      <td>Zubair</td>\n",
    "      <td>0.754000</td>\n",
    "      <td>14.0</td>\n",
    "    </tr>\n",
    "    <tr>\n",
    "      <th>4</th>\n",
    "      <td>2715</td>\n",
    "      <td>Guerra</td>\n",
    "      <td>Samantha</td>\n",
    "      <td>0.731167</td>\n",
    "      <td>19.0</td>\n",
    "    </tr>\n",
    "  </tbody>\n",
    "</table>\n",
    "\n",
    "*Hint.* Read the documentation for `.rank()`."
   ]
  },
  {
   "cell_type": "code",
   "execution_count": null,
   "metadata": {},
   "outputs": [],
   "source": []
  },
  {
   "cell_type": "code",
   "execution_count": 36,
   "metadata": {
    "tags": [
     "solution"
    ]
   },
   "outputs": [
    {
     "data": {
      "text/html": [
       "<div>\n",
       "<style scoped>\n",
       "    .dataframe tbody tr th:only-of-type {\n",
       "        vertical-align: middle;\n",
       "    }\n",
       "\n",
       "    .dataframe tbody tr th {\n",
       "        vertical-align: top;\n",
       "    }\n",
       "\n",
       "    .dataframe thead th {\n",
       "        text-align: right;\n",
       "    }\n",
       "</style>\n",
       "<table border=\"1\" class=\"dataframe\">\n",
       "  <thead>\n",
       "    <tr style=\"text-align: right;\">\n",
       "      <th></th>\n",
       "      <th>student_id</th>\n",
       "      <th>lastname</th>\n",
       "      <th>firstname</th>\n",
       "      <th>course_grade</th>\n",
       "      <th>rank</th>\n",
       "    </tr>\n",
       "  </thead>\n",
       "  <tbody>\n",
       "    <tr>\n",
       "      <th>0</th>\n",
       "      <td>2603</td>\n",
       "      <td>Conway</td>\n",
       "      <td>Romeo</td>\n",
       "      <td>0.787958</td>\n",
       "      <td>8.0</td>\n",
       "    </tr>\n",
       "    <tr>\n",
       "      <th>1</th>\n",
       "      <td>6435</td>\n",
       "      <td>Livingston</td>\n",
       "      <td>Naseem</td>\n",
       "      <td>0.703708</td>\n",
       "      <td>30.0</td>\n",
       "    </tr>\n",
       "    <tr>\n",
       "      <th>2</th>\n",
       "      <td>6754</td>\n",
       "      <td>Clark</td>\n",
       "      <td>Remy</td>\n",
       "      <td>0.775000</td>\n",
       "      <td>10.0</td>\n",
       "    </tr>\n",
       "    <tr>\n",
       "      <th>3</th>\n",
       "      <td>3032</td>\n",
       "      <td>Carpenter</td>\n",
       "      <td>Zubair</td>\n",
       "      <td>0.754000</td>\n",
       "      <td>14.0</td>\n",
       "    </tr>\n",
       "    <tr>\n",
       "      <th>4</th>\n",
       "      <td>2715</td>\n",
       "      <td>Guerra</td>\n",
       "      <td>Samantha</td>\n",
       "      <td>0.731167</td>\n",
       "      <td>19.0</td>\n",
       "    </tr>\n",
       "  </tbody>\n",
       "</table>\n",
       "</div>"
      ],
      "text/plain": [
       "   student_id    lastname firstname  course_grade  rank\n",
       "0        2603      Conway     Romeo      0.787958   8.0\n",
       "1        6435  Livingston    Naseem      0.703708  30.0\n",
       "2        6754       Clark      Remy      0.775000  10.0\n",
       "3        3032   Carpenter    Zubair      0.754000  14.0\n",
       "4        2715      Guerra  Samantha      0.731167  19.0"
      ]
     },
     "execution_count": 36,
     "metadata": {},
     "output_type": "execute_result"
    }
   ],
   "source": [
    "# Solution\n",
    "ranked_df = (\n",
    "    grades_df\n",
    "    .assign(\n",
    "        rank=lambda x: x['course_grade'].rank(ascending=False)\n",
    "    )\n",
    "    [['student_id', 'lastname', 'firstname', 'course_grade', 'rank']]\n",
    ")\n",
    "\n",
    "ranked_df.head()"
   ]
  }
 ],
 "metadata": {
  "kernelspec": {
   "display_name": "Python 3 (ipykernel)",
   "language": "python",
   "name": "python3"
  },
  "language_info": {
   "codemirror_mode": {
    "name": "ipython",
    "version": 3
   },
   "file_extension": ".py",
   "mimetype": "text/x-python",
   "name": "python",
   "nbconvert_exporter": "python",
   "pygments_lexer": "ipython3",
   "version": "3.10.5"
  }
 },
 "nbformat": 4,
 "nbformat_minor": 4
}
