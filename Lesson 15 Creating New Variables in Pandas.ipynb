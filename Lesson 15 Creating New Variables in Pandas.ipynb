{
 "cells": [
  {
   "cell_type": "markdown",
   "metadata": {},
   "source": [
    "**SA433 &#x25aa; Data Wrangling and Visualization &#x25aa; Fall 2024**"
   ]
  },
  {
   "cell_type": "markdown",
   "metadata": {},
   "source": [
    "# Lesson 15. Creating New Variables in Pandas"
   ]
  },
  {
   "cell_type": "markdown",
   "metadata": {},
   "source": [
    "## In this lesson..."
   ]
  },
  {
   "cell_type": "markdown",
   "metadata": {},
   "source": [
    "- More ways to create new variables in Pandas"
   ]
  },
  {
   "cell_type": "markdown",
   "metadata": {},
   "source": [
    "<hr style=\"border-top: 2px solid gray; margin-top: 1px; margin-bottom: 1px\"></hr>"
   ]
  },
  {
   "cell_type": "markdown",
   "metadata": {},
   "source": [
    "## A tiny example dataset"
   ]
  },
  {
   "cell_type": "markdown",
   "metadata": {},
   "source": [
    "* Let's start by importing Pandas:"
   ]
  },
  {
   "cell_type": "code",
   "execution_count": null,
   "metadata": {},
   "outputs": [],
   "source": [
    "import pandas as pd"
   ]
  },
  {
   "cell_type": "markdown",
   "metadata": {},
   "source": [
    "* For this lesson, we'll use the example dataset in `data/sample.csv` to illustrate how the different ways of creating new variables work"
   ]
  },
  {
   "cell_type": "code",
   "execution_count": null,
   "metadata": {
    "tags": []
   },
   "outputs": [],
   "source": [
    "df = pd.read_csv('data/sample.csv')\n",
    "df"
   ]
  },
  {
   "cell_type": "markdown",
   "metadata": {},
   "source": [
    "<hr style=\"border-top: 2px solid gray; margin-top: 1px; margin-bottom: 1px\"></hr>"
   ]
  },
  {
   "cell_type": "markdown",
   "metadata": {},
   "source": [
    "## The assign method"
   ]
  },
  {
   "cell_type": "markdown",
   "metadata": {},
   "source": [
    "* In a previous lesson, we learned that we can create a new variable/column in a DataFrame by *direct assignment*, like this:"
   ]
  },
  {
   "cell_type": "code",
   "execution_count": null,
   "metadata": {},
   "outputs": [],
   "source": [
    "df['e'] = df['a'] + df['b']\n",
    "df.head()"
   ]
  },
  {
   "cell_type": "markdown",
   "metadata": {},
   "source": [
    "* Note that the direct assignment approach makes the changes *in place*; that is, `df` itself is modified"
   ]
  },
  {
   "cell_type": "markdown",
   "metadata": {},
   "source": [
    "- Here's another way to create a new variable/column in a DataFrame\n",
    "\n",
    "\n",
    "- Let's read in the data again and start from scratch:"
   ]
  },
  {
   "cell_type": "code",
   "execution_count": null,
   "metadata": {},
   "outputs": [],
   "source": [
    "df = pd.read_csv('data/sample.csv')"
   ]
  },
  {
   "cell_type": "markdown",
   "metadata": {},
   "source": [
    "- First, we create a function that takes a DataFrame as input, and outputs the sum of columns `a` and `b` of the DataFrame, like this:"
   ]
  },
  {
   "cell_type": "code",
   "execution_count": null,
   "metadata": {},
   "outputs": [],
   "source": []
  },
  {
   "cell_type": "markdown",
   "metadata": {},
   "source": [
    "- Second, we use the `.assign()` DataFrame method to create the new variable\n",
    "    - Each keyword argument `key=function` creates a new variable called `key` equal to the output of `function(df)`"
   ]
  },
  {
   "cell_type": "markdown",
   "metadata": {},
   "source": [
    "- So, to create a new variable `e` that is equal to the sum of columns `a` and `b`, we can do this:"
   ]
  },
  {
   "cell_type": "code",
   "execution_count": null,
   "metadata": {},
   "outputs": [],
   "source": []
  },
  {
   "cell_type": "markdown",
   "metadata": {},
   "source": [
    "* Note that `.assign()` *returns a new DataFrame*\n",
    "    - It does not make the changes in place, like the direct assignment approach above"
   ]
  },
  {
   "cell_type": "markdown",
   "metadata": {},
   "source": [
    "* If we inspect the contents of `df` now, we see that it doesn't contain a column named `e`:"
   ]
  },
  {
   "cell_type": "code",
   "execution_count": null,
   "metadata": {},
   "outputs": [],
   "source": [
    "df"
   ]
  },
  {
   "cell_type": "markdown",
   "metadata": {},
   "source": [
    "* Now... creating a separate function to perform the operation we want is a bit cumbersome\n",
    "\n",
    "\n",
    "* Instead, we can use a **lambda function**, like this:"
   ]
  },
  {
   "cell_type": "code",
   "execution_count": null,
   "metadata": {},
   "outputs": [],
   "source": []
  },
  {
   "cell_type": "markdown",
   "metadata": {},
   "source": [
    "- The lambda function\n",
    "\n",
    "    ```python\n",
    "    lambda x: x['a'] + x['b']\n",
    "    ```\n",
    "\n",
    "    <br>takes `x` as input, and outputs `x['a'] + x['b']`, just like we defined in the function `add_a_and_b()`\n",
    "\n",
    "\n",
    "- We can even create multiple variables in a single call of `.assign()`, like this:"
   ]
  },
  {
   "cell_type": "code",
   "execution_count": null,
   "metadata": {},
   "outputs": [],
   "source": []
  },
  {
   "cell_type": "markdown",
   "metadata": {},
   "source": [
    "- In the example above, note that we can even refer to *newly created* columns within the same call of `.assign()`"
   ]
  },
  {
   "cell_type": "markdown",
   "metadata": {},
   "source": [
    "- **Template for using the `.assign()` method**\n",
    "\n",
    "    ```python\n",
    "    df.assign(\n",
    "        new_variable_1=lambda x: ...,\n",
    "        new_variable_2=lambda x: ...\n",
    "    )\n",
    "    ```\n",
    "\n",
    "    <br>where `x` refers to the DataFrame `df`"
   ]
  },
  {
   "cell_type": "markdown",
   "metadata": {},
   "source": [
    "### Why use the assign method?"
   ]
  },
  {
   "cell_type": "markdown",
   "metadata": {},
   "source": [
    "- The direct assignment approach makes changes to the DataFrame in place, while `.assign()` returns a new DataFrame\n",
    "\n",
    "\n",
    "- As a result, the `.assign()` method supports method chaining, like this:"
   ]
  },
  {
   "cell_type": "code",
   "execution_count": null,
   "metadata": {},
   "outputs": [],
   "source": [
    "(\n",
    "    df\n",
    "    .assign(e=lambda x: x['c'] / 2)\n",
    "    .query('e > 5')\n",
    ")"
   ]
  },
  {
   "cell_type": "markdown",
   "metadata": {},
   "source": [
    "- *Refactoring* &mdash; in particular, renaming variables &mdash; is easier as well \n",
    "\n",
    "\n",
    "- As a comparison, think about changing the name of the DataFrame from `df` to `another_df` in these 2 cases:\n",
    "\n",
    "    ```python\n",
    "    # Case 1\n",
    "    df['f'] = df['a'] + df['b'] + df['c'] + df['d']\n",
    "    \n",
    "    # Case 2\n",
    "    df.assign(\n",
    "        f=lambda x: x['a'] + x['b'] + x['c'] + x['d']\n",
    "    )\n",
    "    ```"
   ]
  },
  {
   "cell_type": "markdown",
   "metadata": {},
   "source": [
    "<hr style=\"border-top: 2px solid gray; margin-top: 1px; margin-bottom: 1px\"></hr>"
   ]
  },
  {
   "cell_type": "markdown",
   "metadata": {},
   "source": [
    "## Useful Series and DataFrame methods for computations"
   ]
  },
  {
   "cell_type": "markdown",
   "metadata": {},
   "source": [
    "- Pandas has a myriad of built-in methods for various computations\n",
    "\n",
    "\n",
    "- In this lesson, we'll learn about some of the basic ones\n",
    "\n",
    "\n",
    "- To find the documentation for the Series and DataFrame methods covered in this section, [search the documentation](https://pandas.pydata.org/pandas-docs/stable/index.html) for either\n",
    "    - `pandas.Series.method_name` or\n",
    "    - `pandas.DataFrame.method_name`"
   ]
  },
  {
   "cell_type": "markdown",
   "metadata": {},
   "source": [
    "### Element-wise methods"
   ]
  },
  {
   "cell_type": "markdown",
   "metadata": {},
   "source": [
    "* **Element-wise methods** perform the same computation on each element of a Series or DataFrame\n",
    "\n",
    "\n",
    "* One such example is the `.round()` Series/DataFrame method\n",
    "\n",
    "\n",
    "* When applied to a Series, we get the values in the Series, rounded to the given number of decimals\n",
    "\n",
    "\n",
    "* For example:"
   ]
  },
  {
   "cell_type": "code",
   "execution_count": null,
   "metadata": {},
   "outputs": [],
   "source": []
  },
  {
   "cell_type": "markdown",
   "metadata": {},
   "source": [
    "* We can add a column to our DataFrame with these rounded values, like this:"
   ]
  },
  {
   "cell_type": "code",
   "execution_count": null,
   "metadata": {},
   "outputs": [],
   "source": []
  },
  {
   "cell_type": "markdown",
   "metadata": {},
   "source": [
    "* We can also apply `.round()` to the entire DataFrame:"
   ]
  },
  {
   "cell_type": "code",
   "execution_count": null,
   "metadata": {},
   "outputs": [],
   "source": []
  },
  {
   "cell_type": "markdown",
   "metadata": {},
   "source": [
    "- A few mathematical element-wise methods in Pandas:\n",
    "\n",
    "| Method | Description |\n",
    "| :- | :- |\n",
    "| `.round()` | Round values to given number of decimal places | \n",
    "| `.abs()` | Absolute values |\n",
    "\n",
    "\n",
    "- For more complex element-wise mathematical computations, you can use the appropriate [NumPy](https://numpy.org/) functions\n",
    "\n",
    "\n",
    "- For example, we can compute the cosine of the values in column `b` like this:"
   ]
  },
  {
   "cell_type": "code",
   "execution_count": null,
   "metadata": {},
   "outputs": [],
   "source": []
  },
  {
   "cell_type": "markdown",
   "metadata": {},
   "source": [
    "- [Here's a list of NumPy mathematical functions](https://numpy.org/doc/stable/reference/routines.math.html)"
   ]
  },
  {
   "cell_type": "markdown",
   "metadata": {},
   "source": [
    "❓ __Exercise 1.__ Add a column to `df` called `log10_c`, which contains the base 10 logarithm of the values in column `c`.\n",
    "\n",
    "*Hint.* Take a look at the list of NumPy mathematical functions linked above."
   ]
  },
  {
   "cell_type": "code",
   "execution_count": null,
   "metadata": {},
   "outputs": [],
   "source": []
  },
  {
   "cell_type": "markdown",
   "metadata": {},
   "source": [
    "### Reduction methods"
   ]
  },
  {
   "cell_type": "markdown",
   "metadata": {},
   "source": [
    "- **Reduction methods** either\n",
    "    - map a Series to a single value, or\n",
    "    - map the rows or columns of a DataFrame to a Series"
   ]
  },
  {
   "cell_type": "markdown",
   "metadata": {},
   "source": [
    "- One such example is the `.sum()` Series/DataFrame method\n",
    "\n",
    "\n",
    "- When applied to a Series, we get the sum of the values in the Series:"
   ]
  },
  {
   "cell_type": "code",
   "execution_count": null,
   "metadata": {},
   "outputs": [],
   "source": []
  },
  {
   "cell_type": "markdown",
   "metadata": {},
   "source": [
    "- By default, when applied to a DataFrame, `.sum()` returns a Series containing sums *across the rows*, or within each column:"
   ]
  },
  {
   "cell_type": "code",
   "execution_count": null,
   "metadata": {},
   "outputs": [],
   "source": []
  },
  {
   "cell_type": "markdown",
   "metadata": {},
   "source": [
    "- To sum *across the columns* instead, we can use the `axis='columns'` keyword:"
   ]
  },
  {
   "cell_type": "code",
   "execution_count": null,
   "metadata": {},
   "outputs": [],
   "source": []
  },
  {
   "cell_type": "markdown",
   "metadata": {},
   "source": [
    "- We can select a subset of columns first, and then sum across the columns, like this:"
   ]
  },
  {
   "cell_type": "code",
   "execution_count": null,
   "metadata": {},
   "outputs": [],
   "source": []
  },
  {
   "cell_type": "markdown",
   "metadata": {},
   "source": [
    "* We can add a column to our DataFrame with this sum, like this:"
   ]
  },
  {
   "cell_type": "code",
   "execution_count": null,
   "metadata": {},
   "outputs": [],
   "source": []
  },
  {
   "cell_type": "markdown",
   "metadata": {},
   "source": [
    "*Food for thought.* What happens when you use the code above, but with `axis='rows'` instead? Why does this happen?"
   ]
  },
  {
   "cell_type": "markdown",
   "metadata": {},
   "source": [
    "- Here are some useful reduction methods:\n",
    "\n",
    "    \n",
    "| Method | Description |\n",
    "| :- | :- |\n",
    "| `.count()` | Number of non-NA values |\n",
    "| `.min()`, `.max()` | Compute minimum and maximum values |\n",
    "| `.quantile()` | Compute sample quantile ranging from 0 to 1 |\n",
    "| `.sum()` | Sum of values |\n",
    "| `.mean()` | Mean of values |\n",
    "| `.median()` | Median of values |\n",
    "| `.mad()` | Mean absolute deviation from mean value |\n",
    "| `.prod()` | Product of all values |\n",
    "| `.var()` | Sample variance of values |\n",
    "| `.std()` | Sample standard deivation of values |\n",
    "\n",
    "\n",
    "- All the methods above use the `axis=...` keyword argument in the same way"
   ]
  },
  {
   "cell_type": "markdown",
   "metadata": {},
   "source": [
    "❓ __Exercise 2.__ Add two new columns to `df` called `min_value` and `max_value`, containing the minimum and maximum value in each row, respectively."
   ]
  },
  {
   "cell_type": "code",
   "execution_count": null,
   "metadata": {},
   "outputs": [],
   "source": []
  },
  {
   "cell_type": "markdown",
   "metadata": {},
   "source": [
    "### \"Same size\" methods"
   ]
  },
  {
   "cell_type": "markdown",
   "metadata": {},
   "source": [
    "* There are other methods that\n",
    "    - take a row or column of values\n",
    "    - perform computations on these values *as a group* (not element-wise)\n",
    "    - return a row or column of values *of the same size*"
   ]
  },
  {
   "cell_type": "markdown",
   "metadata": {},
   "source": [
    "* For example, we can obtain the cumulative sum of values across the *columns* with the `.cumsum()` method, like this:"
   ]
  },
  {
   "cell_type": "code",
   "execution_count": null,
   "metadata": {},
   "outputs": [],
   "source": []
  },
  {
   "cell_type": "markdown",
   "metadata": {},
   "source": [
    "* We can also obtain the cumulative sum of values across the *rows* of a column with the `.cumsum()` method, like this:"
   ]
  },
  {
   "cell_type": "code",
   "execution_count": null,
   "metadata": {},
   "outputs": [],
   "source": []
  },
  {
   "cell_type": "markdown",
   "metadata": {},
   "source": [
    "* As we have done above, we can add this cumulative sum of values for column `c` as a new column of our DataFrame, like this:"
   ]
  },
  {
   "cell_type": "code",
   "execution_count": null,
   "metadata": {},
   "outputs": [],
   "source": []
  },
  {
   "cell_type": "markdown",
   "metadata": {},
   "source": [
    "* Here are some methods that behave similarly &mdash; that is, they\n",
    "    - take a row or column of values\n",
    "    - perform a computation on these values as a group\n",
    "    - then return a row or column of values of the same size\n",
    "\n",
    "| Method | Description |\n",
    "| :- | :- |\n",
    "| `.cumsum()` | Cumulative sum of values |\n",
    "| `.cummin()`, `.cummax()` | Cumulative minimum and maximum of values |\n",
    "| `.cumprod()` | Cumulative product of values |\n",
    "| `.diff()` | Compute difference between consecutive rows/columns |\n",
    "| `.pct_change()` | Compute percent changes between consecutive rows/columns |\n",
    "| `.rank()` | Compute numerical ranks | "
   ]
  },
  {
   "cell_type": "markdown",
   "metadata": {},
   "source": [
    "* Some of these methods take optional keyword arguments that change what they compute \n",
    "    * Take a look at the documentation for details"
   ]
  },
  {
   "cell_type": "markdown",
   "metadata": {},
   "source": [
    "❓ __Exercise 3.__ Add a column called `a_diff` to `df`, containing the difference between consecutive values in column `a`. \n",
    "\n",
    "You should see that the first element of your newly created column `a_diff` has a missing value. Does this make sense?"
   ]
  },
  {
   "cell_type": "code",
   "execution_count": null,
   "metadata": {},
   "outputs": [],
   "source": []
  },
  {
   "cell_type": "markdown",
   "metadata": {},
   "source": [
    "*Write your answer here. Double-click to edit.*"
   ]
  },
  {
   "cell_type": "markdown",
   "metadata": {},
   "source": [
    "<hr style=\"border-top: 2px solid gray; margin-top: 1px; margin-bottom: 1px\"></hr>"
   ]
  },
  {
   "cell_type": "markdown",
   "metadata": {},
   "source": [
    "## Other useful ways to create new variables"
   ]
  },
  {
   "cell_type": "markdown",
   "metadata": {},
   "source": [
    "### Adding a constant column"
   ]
  },
  {
   "cell_type": "markdown",
   "metadata": {},
   "source": [
    "* Sometimes it's useful to add a column in which every value is equal to a constant, either a string or numeric value\n",
    "\n",
    "\n",
    "* In this case, you don't need to use a lambda function, like this:"
   ]
  },
  {
   "cell_type": "code",
   "execution_count": null,
   "metadata": {},
   "outputs": [],
   "source": []
  },
  {
   "cell_type": "markdown",
   "metadata": {},
   "source": [
    "### Mapping values in one column to another"
   ]
  },
  {
   "cell_type": "markdown",
   "metadata": {},
   "source": [
    "* Suppose we know that the values in column `c` in `df` range between 10 and 20, and we want to create a column with those values in words\n",
    "\n",
    "* We can create a dictionary with our desired mapping, like this:"
   ]
  },
  {
   "cell_type": "code",
   "execution_count": null,
   "metadata": {},
   "outputs": [],
   "source": [
    "number_in_words = {\n",
    "    10: 'Ten',\n",
    "    11: 'Eleven',\n",
    "    12: 'Twelve',\n",
    "    13: 'Thirteen',\n",
    "    14: 'Fourteen',\n",
    "    15: 'Fifteen',\n",
    "    16: 'Sixteen',\n",
    "    17: 'Seventeen',\n",
    "    18: 'Eighteen',\n",
    "    19: 'Nineteen',\n",
    "    20: 'Twenty'\n",
    "}"
   ]
  },
  {
   "cell_type": "markdown",
   "metadata": {},
   "source": [
    "* Then, we can use the `.map()` method to create our new column, like this:"
   ]
  },
  {
   "cell_type": "code",
   "execution_count": null,
   "metadata": {},
   "outputs": [],
   "source": []
  },
  {
   "cell_type": "markdown",
   "metadata": {},
   "source": [
    "* We can also pass a _function_ to `.map()` to accomplish something similar!"
   ]
  },
  {
   "cell_type": "markdown",
   "metadata": {},
   "source": [
    "* For example, suppose we want to create a new column based on column `b` in `df`:\n",
    "    * If the value in `b` is below 6, we want the value in our new column to be `low`\n",
    "    * Otherwise, we want the value in our new column to be `high`"
   ]
  },
  {
   "cell_type": "markdown",
   "metadata": {},
   "source": [
    "    \n",
    "* Let's first define a function that creates this mapping:"
   ]
  },
  {
   "cell_type": "code",
   "execution_count": null,
   "metadata": {},
   "outputs": [],
   "source": [
    "def low_or_high(value):\n",
    "    if value < 6:\n",
    "        return 'low'\n",
    "    else:\n",
    "        return 'high'"
   ]
  },
  {
   "cell_type": "markdown",
   "metadata": {},
   "source": [
    "* Now we can use the `.map()` method to create our new column, like this:"
   ]
  },
  {
   "cell_type": "code",
   "execution_count": null,
   "metadata": {},
   "outputs": [],
   "source": []
  },
  {
   "cell_type": "markdown",
   "metadata": {},
   "source": [
    "<hr style=\"border-top: 2px solid gray; margin-top: 1px; margin-bottom: 1px\"></hr>"
   ]
  },
  {
   "cell_type": "markdown",
   "metadata": {},
   "source": [
    "## Problems"
   ]
  },
  {
   "cell_type": "markdown",
   "metadata": {},
   "source": [
    "### Problem 0"
   ]
  },
  {
   "cell_type": "markdown",
   "metadata": {},
   "source": [
    "In the same folder as this notebook, there is a CSV file `data/grades.csv`. This is the same dataset used for the problems in Lesson 12. Read the CSV file into a DataFrame. Display the top 5 rows of the DataFrame."
   ]
  },
  {
   "cell_type": "code",
   "execution_count": null,
   "metadata": {},
   "outputs": [],
   "source": []
  },
  {
   "cell_type": "markdown",
   "metadata": {},
   "source": [
    "### Problem 1"
   ]
  },
  {
   "cell_type": "markdown",
   "metadata": {},
   "source": [
    "Find the minimum, maximum, and median quiz and exam grades. Write your code so that the student IDs and names are *not* included in the output.\n",
    "\n",
    "*Hint.* Use the `.drop()` DataFrame method."
   ]
  },
  {
   "cell_type": "code",
   "execution_count": null,
   "metadata": {},
   "outputs": [],
   "source": []
  },
  {
   "cell_type": "markdown",
   "metadata": {},
   "source": [
    "### Problem 2"
   ]
  },
  {
   "cell_type": "markdown",
   "metadata": {},
   "source": [
    "Create a new DataFrame based on the one you created in Problem 0:\n",
    "\n",
    "- Compute each student's quiz grades as a percentage (fraction between 0 and 1). The maximum score on Quizzes 1 and 3 is 20 points; the maximum score on Quizzes 2 and 4 is 30 points. Add 4 columns, one for each quiz as a percentage.\n",
    "\n",
    "\n",
    "- Compute each student's exam grades as a percentage. The maximum score on each exam is 100 points. Add 2 columns, one for each exam as a percentage.\n",
    "\n",
    "\n",
    "- For each student, compute the average of their quiz percentage grades. Add a column containing the quiz averages.\n",
    "\n",
    "\n",
    "- For each student, compute the average of their exam percentage grades. Add a column containing the exam averages.\n",
    "\n",
    "\n",
    "- Compute each student's course grade as a weighted average of each student's quiz average and exam average: quizzes are worth 35\\%, exams are worth 65\\%. Add a column containing the course grade.\n",
    "\n",
    "\n",
    "Do this using a *single* call to `.assign()`, and use as many of the Series/DataFrame methods described above (e.g. `.sum()`, `.mean()`, etc.) as required. \n",
    "\n",
    "Check your work by displaying the top 5 rows of the DataFrame. You should find that Romeo Conway has a course grade of about 78.8%, Naseem Livingston has a course grade of 70.4%, and Remy Clark has a course grade of 77.5%."
   ]
  },
  {
   "cell_type": "code",
   "execution_count": null,
   "metadata": {},
   "outputs": [],
   "source": []
  },
  {
   "cell_type": "markdown",
   "metadata": {},
   "source": [
    "### Problem 3"
   ]
  },
  {
   "cell_type": "markdown",
   "metadata": {},
   "source": [
    "Create a new DataFrame based on the one you created in Problem 2. In particular, add a new column containing the rank of each student based on their course grade. The student with the highest course grade should have a rank 1. Your new DataFrame should *only* contain the student ID, last name and first name, course grade, and rank. The first 5 rows of your new DataFrame should look like this:\n",
    "\n",
    "<table border=\"1\" class=\"dataframe\">\n",
    "  <thead>\n",
    "    <tr style=\"text-align: right;\">\n",
    "      <th></th>\n",
    "      <th>student_id</th>\n",
    "      <th>lastname</th>\n",
    "      <th>firstname</th>\n",
    "      <th>course_grade</th>\n",
    "      <th>rank</th>\n",
    "    </tr>\n",
    "  </thead>\n",
    "  <tbody>\n",
    "    <tr>\n",
    "      <th>0</th>\n",
    "      <td>2603</td>\n",
    "      <td>Conway</td>\n",
    "      <td>Romeo</td>\n",
    "      <td>0.787958</td>\n",
    "      <td>8.0</td>\n",
    "    </tr>\n",
    "    <tr>\n",
    "      <th>1</th>\n",
    "      <td>6435</td>\n",
    "      <td>Livingston</td>\n",
    "      <td>Naseem</td>\n",
    "      <td>0.703708</td>\n",
    "      <td>30.0</td>\n",
    "    </tr>\n",
    "    <tr>\n",
    "      <th>2</th>\n",
    "      <td>6754</td>\n",
    "      <td>Clark</td>\n",
    "      <td>Remy</td>\n",
    "      <td>0.775000</td>\n",
    "      <td>10.0</td>\n",
    "    </tr>\n",
    "    <tr>\n",
    "      <th>3</th>\n",
    "      <td>3032</td>\n",
    "      <td>Carpenter</td>\n",
    "      <td>Zubair</td>\n",
    "      <td>0.754000</td>\n",
    "      <td>14.0</td>\n",
    "    </tr>\n",
    "    <tr>\n",
    "      <th>4</th>\n",
    "      <td>2715</td>\n",
    "      <td>Guerra</td>\n",
    "      <td>Samantha</td>\n",
    "      <td>0.731167</td>\n",
    "      <td>19.0</td>\n",
    "    </tr>\n",
    "  </tbody>\n",
    "</table>\n",
    "\n",
    "*Hint.* Read the documentation for `.rank()`."
   ]
  },
  {
   "cell_type": "code",
   "execution_count": null,
   "metadata": {},
   "outputs": [],
   "source": []
  }
 ],
 "metadata": {
  "kernelspec": {
   "display_name": "Python 3 (ipykernel)",
   "language": "python",
   "name": "python3"
  },
  "language_info": {
   "codemirror_mode": {
    "name": "ipython",
    "version": 3
   },
   "file_extension": ".py",
   "mimetype": "text/x-python",
   "name": "python",
   "nbconvert_exporter": "python",
   "pygments_lexer": "ipython3",
   "version": "3.11.3"
  }
 },
 "nbformat": 4,
 "nbformat_minor": 4
}
